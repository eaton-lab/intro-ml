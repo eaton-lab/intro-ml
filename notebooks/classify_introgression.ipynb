{
 "cells": [
  {
   "cell_type": "markdown",
   "metadata": {},
   "source": [
    "# SVM model to detect introgression: success with binary classification, less so (so far) with regression"
   ]
  },
  {
   "cell_type": "code",
   "execution_count": 1,
   "metadata": {
    "collapsed": true
   },
   "outputs": [],
   "source": [
    "import msprime\n",
    "import argparse\n",
    "from random import sample\n",
    "import numpy as np\n",
    "import time\n",
    "import sklearn\n",
    "from sklearn import preprocessing\n",
    "import matplotlib.pyplot as plt"
   ]
  },
  {
   "cell_type": "markdown",
   "metadata": {},
   "source": [
    "Here we can make lists of values for migration rates, timing, etc. so that we have independent samples. We choose to run 2000 simulations - 1500 for training, 500 for testing. This is a small number."
   ]
  },
  {
   "cell_type": "code",
   "execution_count": 16,
   "metadata": {
    "collapsed": true
   },
   "outputs": [],
   "source": [
    "samplenum = 2000 # how many simulation samples\n",
    "# make list of migration rates\n",
    "mig_rate = np.append(np.random.gamma(shape = 1,  # make half of the rates positive and the other half zero\n",
    "                                     scale=.01,\n",
    "                                     size = int(samplenum/2.)),\n",
    "                     [0]*(int(samplenum/2.)))\n",
    "np.random.shuffle(mig_rate)\n",
    "\n",
    "# select window width \n",
    "win_width = [.05]*samplenum # if varying: np.random.uniform(0.03,0.1,size = 1000000)\n",
    "# select window center \n",
    "win_center = [.5]*samplenum # if varying: np.random.uniform(0.1, 0.9, size = 1000000)\n",
    "# get number of replicates\n",
    "#num_reps_list = [10000]*samplenum # if varying: (5000+np.random.randint(1,15000,1000000))*2"
   ]
  },
  {
   "cell_type": "markdown",
   "metadata": {},
   "source": [
    "Now we can run simulations. Note that for the sake of starting simple, the *only* parameter changing between simulations is the migration rate."
   ]
  },
  {
   "cell_type": "code",
   "execution_count": 17,
   "metadata": {},
   "outputs": [
    {
     "name": "stdout",
     "output_type": "stream",
     "text": [
      "Total time: 382.43 seconds.\n"
     ]
    }
   ],
   "source": [
    "t0 = time.time() # start the clock\n",
    "\n",
    "genotypes= ['0000','1000','1100','1110','1111','1011','1010','1101',\n",
    " '0111','0011','0010','0001','0100','0110','1001'] # this is for getting count numbers for the feature vector\n",
    "\n",
    "counts = np.empty(shape = [0,len(genotypes)],dtype=int) # this will be filled with our training/testing instances\n",
    "\n",
    "for sample in range(samplenum):\n",
    "    length = 10000\n",
    "    Ne = 1000000\n",
    "    mutation_rate = 7e-8\n",
    "    num_replicates = 1\n",
    "    recombination_rate = 1e-8\n",
    "    \n",
    "    # Four tips of the tree\n",
    "    population_configurations = [msprime.PopulationConfiguration(sample_size=1,initial_size=250000),\n",
    "                                msprime.PopulationConfiguration(sample_size=1,initial_size=250000),\n",
    "                                msprime.PopulationConfiguration(sample_size=1,initial_size=250000),\n",
    "                                msprime.PopulationConfiguration(sample_size=1,initial_size=250000),]\n",
    "    \n",
    "    # No migration initially\n",
    "    migration_matrix = [[0.,0.,0.,0.],\n",
    "                        [0.,0.,0.,0.],\n",
    "                        [0.,0.,0.,0.],\n",
    "                        [0.,0.,0.,0.],]\n",
    "    \n",
    "    # Define demographic events for msprime\n",
    "    demographic_events = [msprime.MigrationRateChange(time=0,\n",
    "                                                      rate=0),\n",
    "                         msprime.MigrationRateChange(time=(win_center[sample]-win_width[sample]/2.)*4*Ne,\n",
    "                                                     rate=mig_rate[sample],\n",
    "                                                     matrix_index=[0,2]),\n",
    "                         msprime.MigrationRateChange(time=(win_center[sample]+win_width[sample]/2.)*4*Ne,\n",
    "                                                     rate=0),\n",
    "                         msprime.MassMigration(destination=1,\n",
    "                                               source=0,\n",
    "                                               time=1.0*4*Ne,\n",
    "                                               proportion=1),\n",
    "                         msprime.MassMigration(destination=1, \n",
    "                                               source=2,\n",
    "                                               time=1.2*4*Ne,\n",
    "                                               proportion=1),\n",
    "                         msprime.MassMigration(destination=1, \n",
    "                                               source=3,\n",
    "                                               time=1.5*4*Ne,\n",
    "                                               proportion=1)\n",
    "                         ]\n",
    "    \n",
    "    # Our msprime simulation:\n",
    "    simulation = msprime.simulate(length=length,\n",
    "                     Ne=Ne,\n",
    "                     mutation_rate=mutation_rate,\n",
    "                     num_replicates=num_replicates,\n",
    "                     recombination_rate=recombination_rate,\n",
    "                     population_configurations=population_configurations,\n",
    "                     migration_matrix = migration_matrix,         \n",
    "                     demographic_events=demographic_events)\n",
    "    \n",
    "    # Access the genotype matrix and format the elements to match our 'genotypes' list defined above\n",
    "    geno = simulation.next().genotype_matrix()\n",
    "    geno= geno.astype(str)\n",
    "    geno_conv = [''.join(i) for i in geno]\n",
    "    \n",
    "    # Tally the frequency of each genotype\n",
    "    tallies = np.empty(shape = [0,0])\n",
    "    for genotype in np.unique(genotypes):\n",
    "        tally = 0\n",
    "        for instance in geno_conv:\n",
    "            tally = tally + int(instance == genotype)\n",
    "        if tally:\n",
    "            tallies = np.append(tallies,tally)\n",
    "        else:\n",
    "            tallies = np.append(tallies,0)\n",
    "            \n",
    "    # Save our feature vector into a matrix of instances for our model\n",
    "    counts = np.vstack([counts, tallies.astype(int)])\n",
    "    \n",
    "t1 = time.time() # stop the clock\n",
    "\n",
    "print(\"Total time: \" + str(round(t1-t0,3)) + \" seconds.\")"
   ]
  },
  {
   "cell_type": "markdown",
   "metadata": {},
   "source": [
    "Now we normalize the data. This isn't essential for some models (e.g. random forests), but SVMs are super scale-dependent."
   ]
  },
  {
   "cell_type": "code",
   "execution_count": 18,
   "metadata": {
    "collapsed": true
   },
   "outputs": [],
   "source": [
    "norm=preprocessing.Normalizer(copy=False,norm='l1')\n",
    "trans_norm = norm.transform(counts)"
   ]
  },
  {
   "cell_type": "markdown",
   "metadata": {},
   "source": [
    "Before we fit our binary classification model, we want to get our \"labels\" data set. This means converting our migration rates from continuous values to \"1\" if migration was present at all and \"0\" if no migration occurred."
   ]
  },
  {
   "cell_type": "code",
   "execution_count": 19,
   "metadata": {
    "collapsed": true
   },
   "outputs": [],
   "source": [
    "int_mig_rate=(mig_rate > 0).astype(int)"
   ]
  },
  {
   "cell_type": "markdown",
   "metadata": {},
   "source": [
    "Now we can fit a classification model. Here, I'm using an SVM. Plenty of other options exist for this, including regression and decision trees."
   ]
  },
  {
   "cell_type": "code",
   "execution_count": 25,
   "metadata": {},
   "outputs": [
    {
     "data": {
      "text/plain": [
       "SVC(C=10, cache_size=200, class_weight=None, coef0=0.0,\n",
       "  decision_function_shape='ovr', degree=3, gamma='auto', kernel='rbf',\n",
       "  max_iter=-1, probability=False, random_state=None, shrinking=True,\n",
       "  tol=0.001, verbose=False)"
      ]
     },
     "execution_count": 25,
     "metadata": {},
     "output_type": "execute_result"
    }
   ],
   "source": [
    "from sklearn import svm\n",
    "X = trans_norm[0:1500]\n",
    "y = int_mig_rate[0:1500]\n",
    "clf = svm.SVC(C=10)\n",
    "clf.fit(X, y)  "
   ]
  },
  {
   "cell_type": "markdown",
   "metadata": {},
   "source": [
    "Now we just have to prepare our training data set, sorting it so that any wrong predictions by the model are more obvious."
   ]
  },
  {
   "cell_type": "code",
   "execution_count": 26,
   "metadata": {
    "collapsed": true
   },
   "outputs": [],
   "source": [
    "testset = np.empty(shape=[0,16])\n",
    "for i in range(1500,2000):\n",
    "    testset=np.vstack([testset,np.append(mig_rate[i],trans_norm[i])])"
   ]
  },
  {
   "cell_type": "code",
   "execution_count": 27,
   "metadata": {
    "collapsed": true
   },
   "outputs": [],
   "source": [
    "testset[:,0] = (testset[:,0] > 0).astype(int)\n",
    "sorted_test= testset[testset[:,0].argsort()]"
   ]
  },
  {
   "cell_type": "markdown",
   "metadata": {},
   "source": [
    "### Real answers:"
   ]
  },
  {
   "cell_type": "code",
   "execution_count": 28,
   "metadata": {},
   "outputs": [
    {
     "data": {
      "image/png": "[encoded data removed]",
      "text/plain": [
       "<matplotlib.figure.Figure at 0x1151ee450>"
      ]
     },
     "metadata": {},
     "output_type": "display_data"
    }
   ],
   "source": [
    "plt.plot(sorted_test[:,0], 'ro')\n",
    "plt.show()"
   ]
  },
  {
   "cell_type": "markdown",
   "metadata": {},
   "source": [
    "### Model predictions:"
   ]
  },
  {
   "cell_type": "code",
   "execution_count": 29,
   "metadata": {},
   "outputs": [
    {
     "data": {
      "image/png": "[encoded data removed]",
      "text/plain": [
       "<matplotlib.figure.Figure at 0x11562dfd0>"
      ]
     },
     "metadata": {},
     "output_type": "display_data"
    }
   ],
   "source": [
    "plt.plot(clf.predict(sorted_test[:,1:16]),'ro')\n",
    "plt.show()"
   ]
  },
  {
   "cell_type": "markdown",
   "metadata": {},
   "source": [
    "So our classifier is great, under very simple conditions, at identifying whether migration has occurred. Nice."
   ]
  },
  {
   "cell_type": "markdown",
   "metadata": {},
   "source": [
    "Now let's try a regression: can we tell how much migration has occurred?"
   ]
  },
  {
   "cell_type": "code",
   "execution_count": 58,
   "metadata": {},
   "outputs": [
    {
     "data": {
      "text/plain": [
       "SVR(C=0.001, cache_size=200, coef0=0.0, degree=3, epsilon=0.01, gamma='auto',\n",
       "  kernel='rbf', max_iter=-1, shrinking=True, tol=0.001, verbose=False)"
      ]
     },
     "execution_count": 58,
     "metadata": {},
     "output_type": "execute_result"
    }
   ],
   "source": [
    "X = trans_norm[0:1500]\n",
    "y = mig_rate[0:1500] # notice this is no longer made of integer values\n",
    "regr = svm.SVR(C=.001,epsilon=0.01) # now using a regression model\n",
    "regr.fit(X, y) "
   ]
  },
  {
   "cell_type": "markdown",
   "metadata": {},
   "source": [
    "Prepare test data:"
   ]
  },
  {
   "cell_type": "code",
   "execution_count": 31,
   "metadata": {
    "collapsed": true
   },
   "outputs": [],
   "source": [
    "testset = np.empty(shape=[0,16])\n",
    "for i in range(1500,2000):\n",
    "    testset=np.vstack([testset,np.append(mig_rate[i],trans_norm[i])])\n",
    "sorted_test= testset[testset[:,0].argsort()]"
   ]
  },
  {
   "cell_type": "markdown",
   "metadata": {},
   "source": [
    "### Real answers:"
   ]
  },
  {
   "cell_type": "code",
   "execution_count": 32,
   "metadata": {},
   "outputs": [
    {
     "data": {
      "image/png": "[encoded data removed]",
      "text/plain": [
       "<matplotlib.figure.Figure at 0x1155cb890>"
      ]
     },
     "metadata": {},
     "output_type": "display_data"
    }
   ],
   "source": [
    "import matplotlib.pyplot as plt\n",
    "plt.plot(sorted_test[:,0], 'ro')\n",
    "plt.show()"
   ]
  },
  {
   "cell_type": "markdown",
   "metadata": {},
   "source": [
    "### Model predictions:"
   ]
  },
  {
   "cell_type": "code",
   "execution_count": 59,
   "metadata": {},
   "outputs": [
    {
     "data": {
      "image/png": "[encoded data removed]",
      "text/plain": [
       "<matplotlib.figure.Figure at 0x114f42d90>"
      ]
     },
     "metadata": {},
     "output_type": "display_data"
    }
   ],
   "source": [
    "plt.plot(regr.predict(sorted_test[:,1:16]),'ro')\n",
    "plt.show()"
   ]
  },
  {
   "cell_type": "markdown",
   "metadata": {},
   "source": [
    "So our model seems to be really good separating \"no migration\" from \"some migration,\" but we haven't really figured out the regression thing yet."
   ]
  }
 ],
 "metadata": {
  "kernelspec": {
   "display_name": "Python 2",
   "language": "python",
   "name": "python2"
  },
  "language_info": {
   "codemirror_mode": {
    "name": "ipython",
    "version": 2
   },
   "file_extension": ".py",
   "mimetype": "text/x-python",
   "name": "python",
   "nbconvert_exporter": "python",
   "pygments_lexer": "ipython2",
   "version": "2.7.13"
  }
 },
 "nbformat": 4,
 "nbformat_minor": 2
}
