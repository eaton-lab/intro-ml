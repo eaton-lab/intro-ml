{
 "cells": [
  {
   "cell_type": "markdown",
   "metadata": {},
   "source": [
    "## Simulating sequences"
   ]
  },
  {
   "cell_type": "markdown",
   "metadata": {},
   "source": [
    "Full simulation pipeline to get DNA sequences via msprime and seq-gen, as well as to create the site-count matrix."
   ]
  },
  {
   "cell_type": "code",
   "execution_count": 1185,
   "metadata": {
    "collapsed": true
   },
   "outputs": [],
   "source": [
    "import msprime\n",
    "import numpy as np\n",
    "import dendropy\n",
    "from dendropy.interop import seqgen\n",
    "import matplotlib.pyplot as plt\n",
    "import sklearn\n",
    "from sklearn import preprocessing\n",
    "import time"
   ]
  },
  {
   "cell_type": "markdown",
   "metadata": {},
   "source": [
    "First we name empty objects for our ML inputs"
   ]
  },
  {
   "cell_type": "code",
   "execution_count": 340,
   "metadata": {
    "collapsed": true
   },
   "outputs": [],
   "source": [
    "ml_feats = np.empty(shape = [0,256]).astype(int) # holds our data\n",
    "ml_labels = np.empty(shape = [0,1]) # holds our labels"
   ]
  },
  {
   "cell_type": "markdown",
   "metadata": {},
   "source": [
    "Now we set up some parameters for the simulations"
   ]
  },
  {
   "cell_type": "code",
   "execution_count": 1091,
   "metadata": {
    "collapsed": true
   },
   "outputs": [],
   "source": [
    "samplenum = 2000 # how many simulation samples\n",
    "# make list of migration rates\n",
    "mig_rate = np.append(np.random.gamma(shape = 1,  # make half of the rates positive and the other half zero\n",
    "                                     scale=.00001,\n",
    "                                     size = int(samplenum/2.)),\n",
    "                     [0]*(int(samplenum/2.)))\n",
    "np.random.shuffle(mig_rate)\n",
    "\n",
    "# select window width \n",
    "win_width = [.05]*samplenum # if varying: np.random.uniform(0.03,0.1,size = 1000000)\n",
    "# select window center \n",
    "win_center = [.5]*samplenum # if varying: np.random.uniform(0.1, 0.9, size = 1000000)\n",
    "# get number of replicates\n",
    "#num_reps_list = [10000]*samplenum # if varying: (5000+np.random.randint(1,15000,1000000))*2"
   ]
  },
  {
   "cell_type": "markdown",
   "metadata": {},
   "source": [
    "Now we run simulations -- this is usually looped through a designated number of samples."
   ]
  },
  {
   "cell_type": "code",
   "execution_count": 1214,
   "metadata": {
    "collapsed": true
   },
   "outputs": [],
   "source": [
    "sample = 0 # usually this is written as a loop, where the sample variable is the loop number\n",
    "length = 10000\n",
    "Ne = 1000000\n",
    "mutation_rate = 7e-8\n",
    "num_replicates = 1\n",
    "recombination_rate = 1e-8\n",
    "\n",
    "# Four tips of the tree\n",
    "population_configurations = [msprime.PopulationConfiguration(sample_size=1,initial_size=250000),\n",
    "                            msprime.PopulationConfiguration(sample_size=1,initial_size=250000),\n",
    "                            msprime.PopulationConfiguration(sample_size=1,initial_size=250000),\n",
    "                            msprime.PopulationConfiguration(sample_size=1,initial_size=250000),]\n",
    "\n",
    "# No migration initially\n",
    "migration_matrix = [[0.,0.,0.,0.],\n",
    "                    [0.,0.,0.,0.],\n",
    "                    [0.,0.,0.,0.],\n",
    "                    [0.,0.,0.,0.],]\n",
    "\n",
    "# Define demographic events for msprime\n",
    "demographic_events = [msprime.MigrationRateChange(time=0,\n",
    "                                                  rate=0),\n",
    "                     msprime.MigrationRateChange(time=(win_center[sample]-win_width[sample]/2.)*4*Ne,\n",
    "                                                 rate=mig_rate[sample],\n",
    "                                                 matrix_index=[0,2]),\n",
    "                     msprime.MigrationRateChange(time=(win_center[sample]+win_width[sample]/2.)*4*Ne,\n",
    "                                                 rate=0),\n",
    "                     msprime.MassMigration(destination=1,\n",
    "                                           source=0,\n",
    "                                           time=1.0*4*Ne,\n",
    "                                           proportion=1),\n",
    "                     msprime.MassMigration(destination=1, \n",
    "                                           source=2,\n",
    "                                           time=1.2*4*Ne,\n",
    "                                           proportion=1),\n",
    "                     msprime.MassMigration(destination=1, \n",
    "                                           source=3,\n",
    "                                           time=1.5*4*Ne,\n",
    "                                           proportion=1)\n",
    "                     ]\n",
    "\n",
    "# Our msprime simulation:\n",
    "simulation = msprime.simulate(length=length,\n",
    "                 Ne=Ne,\n",
    "                 mutation_rate=mutation_rate,\n",
    "                 num_replicates=num_replicates,\n",
    "                 recombination_rate=recombination_rate,\n",
    "                 population_configurations=population_configurations,\n",
    "                 migration_matrix = migration_matrix,         \n",
    "                 demographic_events=demographic_events)\n"
   ]
  },
  {
   "cell_type": "markdown",
   "metadata": {},
   "source": [
    "Once msprime sims are done, we want to input the trees to seq-gen. Notice that the sequence length from seq-gen is defined by the interval of the tree. I also scaled the branch lengths, but I did so kind of arbitrarily. "
   ]
  },
  {
   "cell_type": "code",
   "execution_count": 1179,
   "metadata": {},
   "outputs": [],
   "source": [
    "fullseq = None\n",
    "all_labels = np.empty(shape = [0,1])\n",
    "all_seqs = list()\n",
    "for currsim in simulation:\n",
    "    simtrees = currsim.trees()\n",
    "    for currtree in simtrees:\n",
    "        phylo = dendropy.TreeList.get(data = currtree.newick(),schema='newick')\n",
    "        s = seqgen.SeqGen()\n",
    "        s.seq_len = round(currtree.get_interval()[1]-currtree.get_interval()[0])\n",
    "        s.scale_branch_lens = 0.0000001 # will have to consider how best to use this\n",
    "        dnamat=s.generate(phylo)\n",
    "        charmat=dnamat.char_matrices[0]\n",
    "        for lab,seq in charmat.items():\n",
    "            all_labels = np.append(all_labels,lab.label)\n",
    "            all_seqs.append(seq.symbols_as_list())"
   ]
  },
  {
   "cell_type": "markdown",
   "metadata": {},
   "source": [
    "### Why am I getting more than 10000 bases here?"
   ]
  },
  {
   "cell_type": "code",
   "execution_count": 1180,
   "metadata": {},
   "outputs": [
    {
     "data": {
      "text/plain": [
       "16007"
      ]
     },
     "execution_count": 1180,
     "metadata": {},
     "output_type": "execute_result"
    }
   ],
   "source": [
    "len(np.concatenate(np.array(all_seqs)[all_labels=='4']))"
   ]
  },
  {
   "cell_type": "code",
   "execution_count": 1181,
   "metadata": {},
   "outputs": [
    {
     "data": {
      "text/plain": [
       "409"
      ]
     },
     "execution_count": 1181,
     "metadata": {},
     "output_type": "execute_result"
    }
   ],
   "source": [
    "currsim.get_num_trees()"
   ]
  },
  {
   "cell_type": "markdown",
   "metadata": {},
   "source": [
    "Now we want strings of sequences:"
   ]
  },
  {
   "cell_type": "code",
   "execution_count": 1161,
   "metadata": {
    "collapsed": true
   },
   "outputs": [],
   "source": [
    "seqs = np.vstack([np.concatenate(np.array(all_seqs)[all_labels == '1']),\n",
    "                  np.concatenate(np.array(all_seqs)[all_labels == '2']),\n",
    "                  np.concatenate(np.array(all_seqs)[all_labels == '3']),\n",
    "                  np.concatenate(np.array(all_seqs)[all_labels == '4'])])\n",
    "seqs = np.array([[ord(i) for i in q] for q in seqs])"
   ]
  },
  {
   "cell_type": "markdown",
   "metadata": {},
   "source": [
    "And we convert the bases to our desired integers:"
   ]
  },
  {
   "cell_type": "code",
   "execution_count": 1163,
   "metadata": {},
   "outputs": [],
   "source": [
    "# A=65, T=84, G=71, C=67 -> A=0, T=1, G=2, C=3\n",
    "seqs[seqs == 65] = 0\n",
    "seqs[seqs == 84] = 1\n",
    "seqs[seqs == 71] = 2\n",
    "seqs[seqs == 67] = 3"
   ]
  },
  {
   "cell_type": "code",
   "execution_count": 346,
   "metadata": {},
   "outputs": [],
   "source": [
    "#AA, AT, AG, AC,  -> AA, AT, AG, AC, TA, TT, TG, TC, GA, GT, GG, GC, CA, CT, CG, CC\n",
    "#TA, TT, TG, TC, \n",
    "#GA, GT, GG, GC, \n",
    "#CA, CT, CG, CC"
   ]
  },
  {
   "cell_type": "markdown",
   "metadata": {},
   "source": [
    "Lastly, we get a matrix of the freqencies of site count patterns. "
   ]
  },
  {
   "cell_type": "code",
   "execution_count": 347,
   "metadata": {},
   "outputs": [],
   "source": [
    "index_1616 = np.array(range(16)).reshape([4,4])\n",
    "matrix1616 = np.zeros(shape = [16,16]).astype(int)\n",
    "for column in range(len(seqs[0])):\n",
    "    current4=seqs[:,column]\n",
    "    row1616 = int(index_1616[current4[0],current4[1]])\n",
    "    column1616 = int(index_1616[current4[2],current4[3]])\n",
    "    matrix1616[row1616,column1616] = int(matrix1616[row1616,column1616] + int(1))"
   ]
  },
  {
   "cell_type": "code",
   "execution_count": 82,
   "metadata": {},
   "outputs": [],
   "source": [
    "ml_feats = np.vstack([ml_feats, matrix1616.reshape([1,256])[0]])"
   ]
  },
  {
   "cell_type": "code",
   "execution_count": 83,
   "metadata": {},
   "outputs": [
    {
     "data": {
      "text/plain": [
       "array([[ 9, 11,  5, 10, 13,  6, 11, 11,  7, 11,  9, 12,  6,  5,  5,  7,  9,\n",
       "        10,  8, 12,  5, 13,  5,  6,  6,  5, 11,  9,  7,  8,  9,  7,  3,  8,\n",
       "        13,  8,  8,  6,  9,  5,  9, 10,  8,  4,  7,  5,  6,  9,  4,  4, 16,\n",
       "         3,  6,  6, 10,  3,  9,  5,  8,  7, 16, 10, 12, 17, 12,  9,  8, 11,\n",
       "        13,  3, 14, 10, 10, 10, 10, 10, 11, 10,  5,  8, 11,  3,  4,  9,  5,\n",
       "         7,  6, 12,  5, 15,  8,  7, 14,  7,  7, 15,  4, 12,  8,  9,  8, 14,\n",
       "         5,  8,  5,  5,  9, 11,  4,  8,  7, 11, 10, 10,  7, 12,  6, 10,  7,\n",
       "         4,  6, 12,  9,  9,  6,  6,  7,  6,  8,  9,  9,  8,  6,  6,  9,  5,\n",
       "        11,  6,  7,  9,  6,  9,  7,  5,  6,  9, 11, 12, 15,  9, 12, 10,  5,\n",
       "         4,  7,  5, 10,  6,  8,  6,  6, 15,  7,  8, 13, 12, 14,  8,  8,  6,\n",
       "         2,  7,  7,  9,  6,  8,  8,  8,  7, 13,  8,  5,  8,  9, 10,  6,  7,\n",
       "         5, 11,  8,  8, 11,  7, 11,  8,  9, 16,  8, 14,  5, 13,  5,  5,  9,\n",
       "         9, 11, 13,  9,  5, 11,  9,  7, 12,  8, 13, 10,  7,  8, 11,  8,  4,\n",
       "        10,  9, 12,  7,  5,  7, 10,  3, 13,  9, 11, 10, 10, 11,  9,  8,  8,\n",
       "         9, 11, 12,  9,  2, 10,  9,  8,  7, 14,  7,  5,  3, 11,  9, 11,  8,\n",
       "        14]])"
      ]
     },
     "execution_count": 83,
     "metadata": {},
     "output_type": "execute_result"
    }
   ],
   "source": [
    "ml_feats"
   ]
  },
  {
   "cell_type": "markdown",
   "metadata": {},
   "source": [
    "Now let's write the whole thing out in one block:"
   ]
  },
  {
   "cell_type": "code",
   "execution_count": null,
   "metadata": {},
   "outputs": [
    {
     "name": "stdout",
     "output_type": "stream",
     "text": [
      "0\n",
      "3.11531857544e-05\n",
      "1\n",
      "0.0\n",
      "2\n",
      "5.04366169644e-06\n",
      "3\n",
      "0.0\n",
      "4\n",
      "0.0\n",
      "5\n",
      "0.0\n",
      "6\n",
      "5.72230782712e-06\n",
      "7\n",
      "0.0\n",
      "8\n",
      "0.0\n",
      "9\n",
      "0.0\n",
      "10\n",
      "0.0\n",
      "11\n",
      "0.0\n",
      "12\n",
      "0.0\n",
      "13\n",
      "9.15673797732e-06\n",
      "14\n",
      "0.0\n",
      "15\n",
      "0.0\n",
      "16\n",
      "8.00638037238e-06\n",
      "17\n",
      "1.02483899896e-05\n",
      "18\n",
      "0.0\n",
      "19\n",
      "8.73999995928e-06\n",
      "20\n",
      "0.0\n",
      "21\n",
      "0.0\n",
      "22\n",
      "0.0\n",
      "23\n",
      "0.0\n",
      "24\n",
      "3.3748656123e-06\n",
      "25\n",
      "1.07838806255e-05\n",
      "26\n",
      "4.78544981739e-07\n",
      "27\n",
      "0.0\n",
      "28\n",
      "1.61338770905e-06\n",
      "29\n",
      "0.0\n",
      "30\n",
      "1.51197066668e-05\n",
      "31\n",
      "0.0\n",
      "32\n",
      "1.81393776527e-07\n",
      "33\n",
      "5.72688276262e-06\n",
      "34\n",
      "0.0\n",
      "35\n",
      "1.26985902783e-05\n",
      "36\n",
      "5.79184977714e-06\n",
      "37\n",
      "0.0\n",
      "38\n",
      "2.67692922841e-06\n",
      "39\n",
      "0.0\n",
      "40\n",
      "2.57618470973e-05\n",
      "41\n",
      "0.0\n",
      "42\n",
      "0.0\n",
      "43\n",
      "0.0\n",
      "44\n",
      "6.1844165965e-06\n",
      "45\n",
      "0.0\n",
      "46\n",
      "0.0\n",
      "47\n",
      "4.75574735505e-06\n",
      "48\n",
      "0.0\n",
      "49\n",
      "0.0\n",
      "50\n",
      "1.16460262858e-05\n",
      "51\n",
      "0.0\n",
      "52\n",
      "2.0214008513e-05\n",
      "53\n",
      "6.99654410513e-06\n",
      "54\n",
      "0.0\n",
      "55\n",
      "0.0\n",
      "56\n",
      "1.45088619879e-06\n",
      "57\n",
      "0.0\n",
      "58\n",
      "0.0\n",
      "59\n",
      "8.33773566698e-06\n",
      "60\n",
      "1.00801497093e-05\n",
      "61\n",
      "0.0\n",
      "62\n",
      "0.0\n",
      "63\n",
      "0.0\n",
      "64\n",
      "3.1736994292e-06\n",
      "65\n",
      "2.28667946736e-06\n",
      "66\n",
      "0.0\n",
      "67\n",
      "2.23873810788e-05\n",
      "68\n",
      "4.32916142199e-06\n",
      "69\n",
      "1.19425252563e-05\n",
      "70\n",
      "6.96822417541e-06\n",
      "71\n",
      "0.0\n",
      "72\n",
      "4.00706964808e-06\n",
      "73\n",
      "5.98443126861e-06\n",
      "74\n",
      "0.0\n",
      "75\n",
      "4.17369192327e-05\n",
      "76\n",
      "0.0\n",
      "77\n",
      "7.99957768857e-06\n",
      "78\n",
      "0.0\n",
      "79\n",
      "0.0\n",
      "80\n",
      "0.0\n",
      "81\n",
      "2.01910376412e-06\n",
      "82\n",
      "1.64607884487e-05\n",
      "83\n",
      "4.17544467621e-07\n",
      "84\n",
      "5.11658761198e-06\n",
      "85\n",
      "1.22419726276e-05\n",
      "86\n",
      "0.0\n",
      "87\n",
      "0.0\n",
      "88\n",
      "2.64800727303e-06\n",
      "89\n",
      "4.36483477967e-06\n",
      "90\n",
      "8.10659622689e-07\n",
      "91\n",
      "2.54909327388e-06\n",
      "92\n",
      "0.0\n",
      "93\n",
      "2.65268330724e-06\n",
      "94\n",
      "1.53599611018e-05\n",
      "95\n",
      "4.84609199386e-06\n",
      "96\n",
      "0.0\n",
      "97\n",
      "0.0\n",
      "98\n",
      "5.57613255074e-06\n",
      "99\n",
      "0.0\n",
      "100\n",
      "6.43998582352e-06\n",
      "101\n",
      "0.0\n",
      "102\n",
      "6.82878913901e-07\n",
      "103\n",
      "0.0\n",
      "104\n",
      "6.99788784075e-06\n",
      "105\n",
      "1.92069294306e-06\n",
      "106\n",
      "0.0\n",
      "107\n",
      "0.0\n",
      "108\n",
      "1.61252069103e-05\n",
      "109\n",
      "2.30769926315e-05\n",
      "110\n",
      "9.67029057641e-06\n",
      "111\n",
      "7.10409307905e-06\n",
      "112\n",
      "0.0\n",
      "113\n",
      "0.0\n",
      "114\n",
      "5.87943516278e-06\n",
      "115\n",
      "0.0\n",
      "116\n",
      "0.0\n",
      "117\n",
      "1.7370752103e-07\n",
      "118\n",
      "0.0\n",
      "119\n",
      "1.41560815713e-05\n",
      "120\n",
      "0.0\n",
      "121\n",
      "4.4282703761e-06\n",
      "122\n",
      "0.0\n",
      "123\n",
      "0.0\n",
      "124\n",
      "5.08606291548e-07\n",
      "125\n",
      "0.0\n",
      "126\n",
      "1.58710812042e-05\n",
      "127\n",
      "0.0\n",
      "128\n",
      "0.0\n",
      "129\n",
      "0.0\n",
      "130\n",
      "1.20596140118e-05\n",
      "131\n",
      "5.76537750693e-07\n",
      "132\n",
      "1.71155802704e-05\n",
      "133\n",
      "0.0\n",
      "134\n",
      "0.0\n",
      "135\n",
      "2.16264466098e-05\n",
      "136\n",
      "6.39235377575e-06\n",
      "137\n",
      "1.9097106492e-05\n",
      "138\n",
      "7.94631746998e-08\n",
      "139\n",
      "0.0\n",
      "140\n",
      "5.52750716538e-06\n",
      "141\n",
      "0.0\n",
      "142\n",
      "7.51178995695e-06\n",
      "143\n",
      "2.29068574059e-05\n",
      "144\n",
      "0.0\n",
      "145\n",
      "0.0\n",
      "146\n",
      "7.88698786024e-07\n",
      "147\n",
      "2.53980371864e-06\n",
      "148\n",
      "0.0\n"
     ]
    }
   ],
   "source": [
    "ml_feats = np.empty(shape = [0,256]).astype(int) # holds our data\n",
    "ml_labels = np.empty(shape = [0,1]) # holds our labels\n",
    "\n",
    "samplenum = 10000 # how many simulation samples\n",
    "# make list of migration rates\n",
    "mig_rate = np.append(np.random.gamma(shape = 1,  # make half of the rates positive and the other half zero\n",
    "                                     scale=.00001,\n",
    "                                     size = int(samplenum/2.)),\n",
    "                     [0]*(int(samplenum/2.)))\n",
    "np.random.shuffle(mig_rate)\n",
    "\n",
    "# select window width \n",
    "win_width = [.05]*samplenum # if varying: np.random.uniform(0.03,0.1,size = 1000000)\n",
    "# select window center \n",
    "win_center = [.5]*samplenum # if varying: np.random.uniform(0.1, 0.9, size = 1000000)\n",
    "# get number of replicates\n",
    "#num_reps_list = [10000]*samplenum # if varying: (5000+np.random.randint(1,15000,1000000))*2\n",
    "\n",
    "for currsample in range(samplenum):\n",
    "    sample = currsample # usually this is written as a loop, where the sample variable is the loop number\n",
    "    length = 10000\n",
    "    Ne = 1000000\n",
    "    mutation_rate = 7e-8\n",
    "    num_replicates = 1\n",
    "    recombination_rate = 1e-8\n",
    "\n",
    "    # Four tips of the tree\n",
    "    population_configurations = [msprime.PopulationConfiguration(sample_size=1,initial_size=250000),\n",
    "                                msprime.PopulationConfiguration(sample_size=1,initial_size=250000),\n",
    "                                msprime.PopulationConfiguration(sample_size=1,initial_size=250000),\n",
    "                                msprime.PopulationConfiguration(sample_size=1,initial_size=250000),]\n",
    "\n",
    "    # No migration initially\n",
    "    migration_matrix = [[0.,0.,0.,0.],\n",
    "                        [0.,0.,0.,0.],\n",
    "                        [0.,0.,0.,0.],\n",
    "                        [0.,0.,0.,0.],]\n",
    "\n",
    "    # Define demographic events for msprime\n",
    "    demographic_events = [msprime.MigrationRateChange(time=0,\n",
    "                                                      rate=0),\n",
    "                         msprime.MigrationRateChange(time=(win_center[sample]-win_width[sample]/2.)*4*Ne,\n",
    "                                                     rate=mig_rate[sample],\n",
    "                                                     matrix_index=[0,2]),\n",
    "                         msprime.MigrationRateChange(time=(win_center[sample]+win_width[sample]/2.)*4*Ne,\n",
    "                                                     rate=0),\n",
    "                         msprime.MassMigration(destination=1,\n",
    "                                               source=0,\n",
    "                                               time=1.0*4*Ne,\n",
    "                                               proportion=1),\n",
    "                         msprime.MassMigration(destination=1, \n",
    "                                               source=2,\n",
    "                                               time=1.2*4*Ne,\n",
    "                                               proportion=1),\n",
    "                         msprime.MassMigration(destination=1, \n",
    "                                               source=3,\n",
    "                                               time=1.5*4*Ne,\n",
    "                                               proportion=1)\n",
    "                         ]\n",
    "\n",
    "    # Our msprime simulation:\n",
    "    simulation = msprime.simulate(length=length,\n",
    "                     Ne=Ne,\n",
    "                     mutation_rate=mutation_rate,\n",
    "                     num_replicates=num_replicates,\n",
    "                     recombination_rate=recombination_rate,\n",
    "                     population_configurations=population_configurations,\n",
    "                     migration_matrix = migration_matrix,         \n",
    "                     demographic_events=demographic_events)\n",
    "    fullseq = None\n",
    "    seqlength = 15\n",
    "    all_labels = np.empty(shape = [0,1])\n",
    "    all_seqs = list()\n",
    "    for currsim in simulation:\n",
    "        simtrees = currsim.trees()\n",
    "        for currtree in simtrees:\n",
    "            phylo = dendropy.TreeList.get(data = currtree.newick(),schema='newick')\n",
    "            s = seqgen.SeqGen()\n",
    "            s.seq_len = int(round(currtree.get_interval()[1]-currtree.get_interval()[0]))\n",
    "            s.scale_branch_lens = 0.0000001 # will have to consider how best to use this\n",
    "            dnamat=s.generate(phylo)\n",
    "            charmat=dnamat.char_matrices[0]\n",
    "            for lab,seq in charmat.items():\n",
    "                all_labels = np.append(all_labels,lab.label)\n",
    "                all_seqs.append(seq.symbols_as_list())\n",
    "    seqs = np.vstack([np.concatenate(np.array(all_seqs)[all_labels == '1']),\n",
    "                      np.concatenate(np.array(all_seqs)[all_labels == '2']),\n",
    "                      np.concatenate(np.array(all_seqs)[all_labels == '3']),\n",
    "                      np.concatenate(np.array(all_seqs)[all_labels == '4'])])\n",
    "    seqs = np.array([[ord(i) for i in q] for q in seqs])\n",
    "    # A=65, T=84, G=71, C=67 -> A=0, T=1, G=2, C=3\n",
    "    seqs[seqs == 65] = 0\n",
    "    seqs[seqs == 84] = 1\n",
    "    seqs[seqs == 71] = 2\n",
    "    seqs[seqs == 67] = 3\n",
    "\n",
    "    index_1616 = np.array(range(16)).reshape([4,4])\n",
    "    matrix1616 = np.zeros(shape = [16,16]).astype(int)\n",
    "    for column in range(len(seqs[0])):\n",
    "        current4=seqs[:,column]\n",
    "        row1616 = int(index_1616[current4[0],current4[1]])\n",
    "        column1616 = int(index_1616[current4[2],current4[3]])\n",
    "        matrix1616[row1616,column1616] = int(matrix1616[row1616,column1616] + int(1))\n",
    "\n",
    "    ml_feats = np.vstack([ml_feats, matrix1616.reshape([1,256])[0]])\n",
    "    ml_labels = np.vstack([ml_labels, mig_rate[sample]])\n",
    "    print(sample)\n",
    "    print(mig_rate[sample])"
   ]
  },
  {
   "cell_type": "markdown",
   "metadata": {},
   "source": [
    "Now save our data in hdf5 in case we want to stack onto it later."
   ]
  },
  {
   "cell_type": "code",
   "execution_count": 864,
   "metadata": {
    "collapsed": true
   },
   "outputs": [],
   "source": [
    "import h5py\n",
    "f = h5py.File(\"sim_counts2.hdf5\", \"w\")\n",
    "f.create_dataset(\"labels\", (len(ml_labels),))\n",
    "f.create_dataset(\"matrices\",(ml_feats.shape),dtype = 'i')\n",
    "f['labels'][...] = ml_labels.reshape(1,-1)[0]\n",
    "f['matrices'][...] = ml_feats\n",
    "f.close()"
   ]
  },
  {
   "cell_type": "markdown",
   "metadata": {},
   "source": [
    "Transform it using the l1 norm"
   ]
  },
  {
   "cell_type": "code",
   "execution_count": 865,
   "metadata": {},
   "outputs": [],
   "source": [
    "norm=preprocessing.Normalizer(copy=False,norm='l1')\n",
    "trans_norm = norm.transform(ml_feats)"
   ]
  },
  {
   "cell_type": "markdown",
   "metadata": {},
   "source": [
    "This is how we'd use scaling if we were doing that, but our norm transformation should be good enough?"
   ]
  },
  {
   "cell_type": "code",
   "execution_count": 1015,
   "metadata": {},
   "outputs": [
    {
     "name": "stderr",
     "output_type": "stream",
     "text": [
      "/Users/pmckenz1/miniconda2/lib/python2.7/site-packages/sklearn/utils/validation.py:475: DataConversionWarning: Data with input dtype int64 was converted to float64 by StandardScaler.\n",
      "  warnings.warn(msg, DataConversionWarning)\n"
     ]
    }
   ],
   "source": [
    "scaler = sklearn.preprocessing.StandardScaler()\n",
    "scaler.fit(ml_feats)  \n",
    "scaled = scaler.transform(ml_feats)"
   ]
  },
  {
   "cell_type": "markdown",
   "metadata": {},
   "source": [
    "### Classification:\n",
    "First change our migration rate list to a binary integer list."
   ]
  },
  {
   "cell_type": "code",
   "execution_count": 868,
   "metadata": {
    "collapsed": true
   },
   "outputs": [],
   "source": [
    "int_mig_rate=(mig_rate > 0).astype(int)"
   ]
  },
  {
   "cell_type": "markdown",
   "metadata": {},
   "source": [
    "Train the model on the first group of instances:"
   ]
  },
  {
   "cell_type": "code",
   "execution_count": 870,
   "metadata": {},
   "outputs": [
    {
     "data": {
      "text/plain": [
       "SVC(C=10000, cache_size=200, class_weight=None, coef0=0.0,\n",
       "  decision_function_shape='ovr', degree=3, gamma='auto', kernel='rbf',\n",
       "  max_iter=-1, probability=False, random_state=None, shrinking=True,\n",
       "  tol=0.001, verbose=False)"
      ]
     },
     "execution_count": 870,
     "metadata": {},
     "output_type": "execute_result"
    }
   ],
   "source": [
    "from sklearn import svm\n",
    "X = scaled[0:1000]\n",
    "y = int_mig_rate[0:1000]\n",
    "clf = svm.SVC(C=10000)\n",
    "clf.fit(X, y)  "
   ]
  },
  {
   "cell_type": "markdown",
   "metadata": {},
   "source": [
    "Make a sorted test set from the last group of instances:"
   ]
  },
  {
   "cell_type": "code",
   "execution_count": 871,
   "metadata": {
    "collapsed": true
   },
   "outputs": [],
   "source": [
    "testset = np.empty(shape=[0,257])\n",
    "for i in range(1000,1100):\n",
    "    testset=np.vstack([testset,np.append(mig_rate[i],scaled[i])])"
   ]
  },
  {
   "cell_type": "code",
   "execution_count": 872,
   "metadata": {
    "collapsed": true
   },
   "outputs": [],
   "source": [
    "testset[:,0] = (testset[:,0] > 0).astype(int)\n",
    "sorted_test= testset[testset[:,0].argsort()]"
   ]
  },
  {
   "cell_type": "markdown",
   "metadata": {},
   "source": [
    "### Correct classifications:"
   ]
  },
  {
   "cell_type": "code",
   "execution_count": 873,
   "metadata": {},
   "outputs": [
    {
     "data": {
      "image/png": "[encoded data removed]",
      "text/plain": [
       "<matplotlib.figure.Figure at 0x119833790>"
      ]
     },
     "metadata": {},
     "output_type": "display_data"
    }
   ],
   "source": [
    "plt.plot(sorted_test[:,0], 'ro')\n",
    "plt.show()"
   ]
  },
  {
   "cell_type": "markdown",
   "metadata": {},
   "source": [
    "### Predicted classifications:"
   ]
  },
  {
   "cell_type": "code",
   "execution_count": 874,
   "metadata": {},
   "outputs": [
    {
     "data": {
      "image/png": "[encoded data removed]",
      "text/plain": [
       "<matplotlib.figure.Figure at 0x121360990>"
      ]
     },
     "metadata": {},
     "output_type": "display_data"
    }
   ],
   "source": [
    "plt.plot(clf.predict(sorted_test[:,1:257]),'ro')\n",
    "plt.show()"
   ]
  },
  {
   "cell_type": "markdown",
   "metadata": {},
   "source": [
    "### Regression doesn't work as well for now."
   ]
  },
  {
   "cell_type": "markdown",
   "metadata": {},
   "source": [
    "Fitting an SVM regression"
   ]
  },
  {
   "cell_type": "code",
   "execution_count": 1085,
   "metadata": {},
   "outputs": [
    {
     "data": {
      "text/plain": [
       "SVR(C=1000, cache_size=200, coef0=0.0, degree=3, epsilon=1e-28, gamma='auto',\n",
       "  kernel='rbf', max_iter=-1, shrinking=True, tol=0.001, verbose=False)"
      ]
     },
     "execution_count": 1085,
     "metadata": {},
     "output_type": "execute_result"
    }
   ],
   "source": [
    "from sklearn import svm\n",
    "X = trans_norm[0:1000]\n",
    "y = mig_rate[0:1000]\n",
    "regr = svm.SVR(C=1000,epsilon=.01)\n",
    "regr.fit(X, y)  "
   ]
  },
  {
   "cell_type": "code",
   "execution_count": 1086,
   "metadata": {
    "collapsed": true
   },
   "outputs": [],
   "source": [
    "testset = np.empty(shape=[0,257])\n",
    "for i in range(1000,1100):\n",
    "    testset=np.vstack([testset,np.append(mig_rate[i],trans_norm[i])])"
   ]
  },
  {
   "cell_type": "code",
   "execution_count": 1087,
   "metadata": {
    "collapsed": true
   },
   "outputs": [],
   "source": [
    "#testset[:,0] = (testset[:,0] > 0).astype(int)\n",
    "sorted_test= testset[testset[:,0].argsort()]"
   ]
  },
  {
   "cell_type": "markdown",
   "metadata": {},
   "source": [
    "### Real answers"
   ]
  },
  {
   "cell_type": "code",
   "execution_count": 1088,
   "metadata": {},
   "outputs": [
    {
     "data": {
      "image/png": "[encoded data removed]",
      "text/plain": [
       "<matplotlib.figure.Figure at 0x121388dd0>"
      ]
     },
     "metadata": {},
     "output_type": "display_data"
    }
   ],
   "source": [
    "plt.plot(sorted_test[:,0], 'ro')\n",
    "plt.show()"
   ]
  },
  {
   "cell_type": "markdown",
   "metadata": {},
   "source": [
    "### Predicted answers"
   ]
  },
  {
   "cell_type": "code",
   "execution_count": 1089,
   "metadata": {},
   "outputs": [
    {
     "data": {
      "image/png": "[encoded data removed]",
      "text/plain": [
       "<matplotlib.figure.Figure at 0x117b51190>"
      ]
     },
     "metadata": {},
     "output_type": "display_data"
    }
   ],
   "source": [
    "plt.plot(regr.predict(sorted_test[:,1:257]),'ro')\n",
    "plt.show()"
   ]
  },
  {
   "cell_type": "markdown",
   "metadata": {},
   "source": [
    "### Are the matrices with migration even different? Let's try PCA to visualize this."
   ]
  },
  {
   "cell_type": "code",
   "execution_count": 584,
   "metadata": {},
   "outputs": [],
   "source": [
    "from sklearn.decomposition import KernelPCA"
   ]
  },
  {
   "cell_type": "markdown",
   "metadata": {},
   "source": [
    "Set up and fit PCA"
   ]
  },
  {
   "cell_type": "code",
   "execution_count": 1054,
   "metadata": {},
   "outputs": [],
   "source": [
    "rbf_pca = KernelPCA(n_components=2, kernel = 'rbf', gamma = .0004)"
   ]
  },
  {
   "cell_type": "code",
   "execution_count": 1055,
   "metadata": {
    "collapsed": true
   },
   "outputs": [],
   "source": [
    "X_red = rbf_pca.fit_transform(trans_norm)"
   ]
  },
  {
   "cell_type": "markdown",
   "metadata": {},
   "source": [
    "Sort our labeled instances into different bins"
   ]
  },
  {
   "cell_type": "code",
   "execution_count": 1056,
   "metadata": {},
   "outputs": [],
   "source": [
    "zeros = X_red[(int_mig_rate==0)[0:len(trans_norm)],:]\n",
    "ones = X_red[(int_mig_rate==1)[0:len(trans_norm)],:]"
   ]
  },
  {
   "cell_type": "code",
   "execution_count": 1057,
   "metadata": {},
   "outputs": [
    {
     "data": {
      "image/png": "[encoded data removed]",
      "text/plain": [
       "<matplotlib.figure.Figure at 0x1216ea550>"
      ]
     },
     "metadata": {},
     "output_type": "display_data"
    }
   ],
   "source": [
    "fig = plt.figure()\n",
    "ax1 = fig.add_subplot(111)\n",
    "\n",
    "ax1.scatter(zeros[:,0]*10,zeros[:,1]*10, s=10, c='b', marker=\"s\", label='no migration')\n",
    "ax1.scatter(ones[:,0]*10,ones[:,1]*10, s=10, c='r', marker=\"o\", label='with migration')\n",
    "plt.legend(loc='upper left');\n",
    "plt.title(\"PCA: migration vs. no migration\")\n",
    "plt.show()"
   ]
  },
  {
   "cell_type": "markdown",
   "metadata": {},
   "source": [
    "This is a promising result, implying that we should be able to distinguish matrices with varying levels of migration."
   ]
  },
  {
   "cell_type": "markdown",
   "metadata": {},
   "source": [
    "### Trying a gradient boosting regressor"
   ]
  },
  {
   "cell_type": "code",
   "execution_count": 819,
   "metadata": {},
   "outputs": [],
   "source": [
    "from sklearn.model_selection import train_test_split\n",
    "from sklearn.metrics import mean_squared_error\n",
    "\n",
    "X_train, X_val, y_train, y_val = train_test_split(trans_norm,ml_labels.reshape(1,-1)[0])"
   ]
  },
  {
   "cell_type": "code",
   "execution_count": 889,
   "metadata": {},
   "outputs": [
    {
     "data": {
      "text/plain": [
       "0"
      ]
     },
     "execution_count": 889,
     "metadata": {},
     "output_type": "execute_result"
    }
   ],
   "source": [
    "gbrt=GradientBoostingRegressor(max_depth=2, n_estimators=120)\n",
    "gbrt.fit(X_train, y_train)\n",
    "\n",
    "errors = [mean_squared_error(y_val, y_pred) for y_pred in gbrt.staged_predict(X_val)]\n",
    "bst_n_estimators = np.argmin(errors)\n",
    "bst_n_estimators"
   ]
  },
  {
   "cell_type": "code",
   "execution_count": 994,
   "metadata": {},
   "outputs": [
    {
     "data": {
      "text/plain": [
       "GradientBoostingRegressor(alpha=0.9, criterion='friedman_mse', init=None,\n",
       "             learning_rate=0.1, loss='ls', max_depth=2, max_features=None,\n",
       "             max_leaf_nodes=None, min_impurity_decrease=0.0,\n",
       "             min_impurity_split=None, min_samples_leaf=1,\n",
       "             min_samples_split=2, min_weight_fraction_leaf=0.0,\n",
       "             n_estimators=12, presort='auto', random_state=None,\n",
       "             subsample=1.0, verbose=0, warm_start=False)"
      ]
     },
     "execution_count": 994,
     "metadata": {},
     "output_type": "execute_result"
    }
   ],
   "source": [
    "gbrt_best = GradientBoostingRegressor(max_depth=2,n_estimators=12)\n",
    "gbrt_best.fit(trans_norm[0:1000], ml_labels.reshape(1,-1)[0][0:1000])"
   ]
  },
  {
   "cell_type": "code",
   "execution_count": 822,
   "metadata": {},
   "outputs": [
    {
     "data": {
      "image/png": "[encoded data removed]",
      "text/plain": [
       "<matplotlib.figure.Figure at 0x12149cbd0>"
      ]
     },
     "metadata": {},
     "output_type": "display_data"
    }
   ],
   "source": [
    "plt.plot(sorted_test[:,0], 'ro')\n",
    "plt.show()"
   ]
  },
  {
   "cell_type": "code",
   "execution_count": 995,
   "metadata": {},
   "outputs": [
    {
     "data": {
      "image/png": "[encoded data removed]",
      "text/plain": [
       "<matplotlib.figure.Figure at 0x122600710>"
      ]
     },
     "metadata": {},
     "output_type": "display_data"
    }
   ],
   "source": [
    "plt.plot(gbrt_best.predict(sorted_test[:,1:257]),'ro')\n",
    "plt.show()"
   ]
  },
  {
   "cell_type": "markdown",
   "metadata": {},
   "source": [
    "### Trying a basic neural network."
   ]
  },
  {
   "cell_type": "code",
   "execution_count": 664,
   "metadata": {
    "collapsed": true
   },
   "outputs": [],
   "source": [
    "from sklearn.neural_network import MLPRegressor"
   ]
  },
  {
   "cell_type": "code",
   "execution_count": 1013,
   "metadata": {},
   "outputs": [
    {
     "data": {
      "text/plain": [
       "MLPRegressor(activation='relu', alpha=0.001, batch_size=100, beta_1=0.9,\n",
       "       beta_2=0.999, early_stopping=False, epsilon=1e-08,\n",
       "       hidden_layer_sizes=(12, 3), learning_rate='constant',\n",
       "       learning_rate_init=0.001, max_iter=100000, momentum=0.2,\n",
       "       nesterovs_momentum=True, power_t=0.5, random_state=7, shuffle=True,\n",
       "       solver='lbfgs', tol=0.1, validation_fraction=0.1, verbose=False,\n",
       "       warm_start=False)"
      ]
     },
     "execution_count": 1013,
     "metadata": {},
     "output_type": "execute_result"
    }
   ],
   "source": [
    "neuralnet = MLPRegressor(solver='lbfgs', alpha=1e-3,hidden_layer_sizes=(12,3), random_state=7, max_iter=100000,\n",
    "                        tol=1e-1,momentum = 0.2,batch_size = 100, power_t = .5)\n",
    "X = trans_norm[0:1000]\n",
    "y = mig_rate[0:1000]\n",
    "neuralnet.fit(X,y)"
   ]
  },
  {
   "cell_type": "code",
   "execution_count": 1014,
   "metadata": {},
   "outputs": [
    {
     "data": {
      "image/png": "[encoded data removed]",
      "text/plain": [
       "<matplotlib.figure.Figure at 0x11a8d9c50>"
      ]
     },
     "metadata": {},
     "output_type": "display_data"
    }
   ],
   "source": [
    "plt.plot(neuralnet.predict(sorted_test[:,1:257]),'ro')\n",
    "plt.show()"
   ]
  },
  {
   "cell_type": "markdown",
   "metadata": {},
   "source": [
    "Still stuck on why I'm getting such strange results from the regressors."
   ]
  },
  {
   "cell_type": "code",
   "execution_count": null,
   "metadata": {
    "collapsed": true
   },
   "outputs": [],
   "source": []
  }
 ],
 "metadata": {
  "kernelspec": {
   "display_name": "Python 2",
   "language": "python",
   "name": "python2"
  },
  "language_info": {
   "codemirror_mode": {
    "name": "ipython",
    "version": 2
   },
   "file_extension": ".py",
   "mimetype": "text/x-python",
   "name": "python",
   "nbconvert_exporter": "python",
   "pygments_lexer": "ipython2",
   "version": "2.7.13"
  }
 },
 "nbformat": 4,
 "nbformat_minor": 2
}
