{
 "cells": [
  {
   "cell_type": "markdown",
   "metadata": {},
   "source": [
    "## Simulating sequences"
   ]
  },
  {
   "cell_type": "markdown",
   "metadata": {},
   "source": [
    "Full simulation pipeline to get DNA sequences via msprime and seq-gen, as well as to create the site-count matrix."
   ]
  },
  {
   "cell_type": "code",
   "execution_count": 60,
   "metadata": {
    "collapsed": true
   },
   "outputs": [],
   "source": [
    "import msprime\n",
    "import numpy as np\n",
    "import dendropy\n",
    "from dendropy.interop import seqgen\n",
    "import matplotlib.pyplot as plt"
   ]
  },
  {
   "cell_type": "code",
   "execution_count": 81,
   "metadata": {
    "collapsed": true
   },
   "outputs": [],
   "source": [
    "ml_feats = np.empty(shape = [0,256]).astype(int) # holds our data\n",
    "ml_labels = np.empty(shape = [0,1]) # holds our labels"
   ]
  },
  {
   "cell_type": "code",
   "execution_count": 3,
   "metadata": {
    "collapsed": true
   },
   "outputs": [],
   "source": [
    "samplenum = 2000 # how many simulation samples\n",
    "# make list of migration rates\n",
    "mig_rate = np.append(np.random.gamma(shape = 1,  # make half of the rates positive and the other half zero\n",
    "                                     scale=.01,\n",
    "                                     size = int(samplenum/2.)),\n",
    "                     [0]*(int(samplenum/2.)))\n",
    "np.random.shuffle(mig_rate)\n",
    "\n",
    "# select window width \n",
    "win_width = [.05]*samplenum # if varying: np.random.uniform(0.03,0.1,size = 1000000)\n",
    "# select window center \n",
    "win_center = [.5]*samplenum # if varying: np.random.uniform(0.1, 0.9, size = 1000000)\n",
    "# get number of replicates\n",
    "#num_reps_list = [10000]*samplenum # if varying: (5000+np.random.randint(1,15000,1000000))*2"
   ]
  },
  {
   "cell_type": "code",
   "execution_count": 4,
   "metadata": {
    "collapsed": true
   },
   "outputs": [],
   "source": [
    "sample = 0 # usually this is written as a loop, where the sample variable is the loop number\n",
    "length = 10000\n",
    "Ne = 1000000\n",
    "mutation_rate = 7e-8\n",
    "num_replicates = 1\n",
    "recombination_rate = 1e-8\n",
    "\n",
    "# Four tips of the tree\n",
    "population_configurations = [msprime.PopulationConfiguration(sample_size=1,initial_size=250000),\n",
    "                            msprime.PopulationConfiguration(sample_size=1,initial_size=250000),\n",
    "                            msprime.PopulationConfiguration(sample_size=1,initial_size=250000),\n",
    "                            msprime.PopulationConfiguration(sample_size=1,initial_size=250000),]\n",
    "\n",
    "# No migration initially\n",
    "migration_matrix = [[0.,0.,0.,0.],\n",
    "                    [0.,0.,0.,0.],\n",
    "                    [0.,0.,0.,0.],\n",
    "                    [0.,0.,0.,0.],]\n",
    "\n",
    "# Define demographic events for msprime\n",
    "demographic_events = [msprime.MigrationRateChange(time=0,\n",
    "                                                  rate=0),\n",
    "                     msprime.MigrationRateChange(time=(win_center[sample]-win_width[sample]/2.)*4*Ne,\n",
    "                                                 rate=mig_rate[sample],\n",
    "                                                 matrix_index=[0,2]),\n",
    "                     msprime.MigrationRateChange(time=(win_center[sample]+win_width[sample]/2.)*4*Ne,\n",
    "                                                 rate=0),\n",
    "                     msprime.MassMigration(destination=1,\n",
    "                                           source=0,\n",
    "                                           time=1.0*4*Ne,\n",
    "                                           proportion=1),\n",
    "                     msprime.MassMigration(destination=1, \n",
    "                                           source=2,\n",
    "                                           time=1.2*4*Ne,\n",
    "                                           proportion=1),\n",
    "                     msprime.MassMigration(destination=1, \n",
    "                                           source=3,\n",
    "                                           time=1.5*4*Ne,\n",
    "                                           proportion=1)\n",
    "                     ]\n",
    "\n",
    "# Our msprime simulation:\n",
    "simulation = msprime.simulate(length=length,\n",
    "                 Ne=Ne,\n",
    "                 mutation_rate=mutation_rate,\n",
    "                 num_replicates=num_replicates,\n",
    "                 recombination_rate=recombination_rate,\n",
    "                 population_configurations=population_configurations,\n",
    "                 migration_matrix = migration_matrix,         \n",
    "                 demographic_events=demographic_events)\n"
   ]
  },
  {
   "cell_type": "code",
   "execution_count": 5,
   "metadata": {
    "collapsed": true
   },
   "outputs": [],
   "source": [
    "fullseq = None\n",
    "seqlength = 5\n",
    "all_labels = np.empty(shape = [0,1])\n",
    "all_seqs = np.empty(shape = [0,seqlength])\n",
    "for currsim in simulation:\n",
    "    simtrees = currsim.trees()\n",
    "    for currtree in simtrees:\n",
    "        phylo = dendropy.TreeList.get(data = currtree.newick(),schema='newick')\n",
    "        s = seqgen.SeqGen()\n",
    "        s.seq_len = seqlength\n",
    "        s.scale_branch_lens = 0.00001 # will have to consider how best to use this\n",
    "        dnamat=s.generate(phylo)\n",
    "        charmat=dnamat.char_matrices[0]\n",
    "        for lab,seq in charmat.items():\n",
    "            all_labels = np.append(all_labels,lab.label)\n",
    "            all_seqs = np.vstack([all_seqs,np.array(seq.symbols_as_list())])"
   ]
  },
  {
   "cell_type": "code",
   "execution_count": 6,
   "metadata": {
    "collapsed": true
   },
   "outputs": [],
   "source": [
    "seqs = np.vstack([np.concatenate(all_seqs[all_labels == '1']),\n",
    "                  np.concatenate(all_seqs[all_labels == '2']),\n",
    "                  np.concatenate(all_seqs[all_labels == '3']),\n",
    "                  np.concatenate(all_seqs[all_labels == '4'])])\n",
    "seqs = np.array([[ord(i) for i in q] for q in seqs])"
   ]
  },
  {
   "cell_type": "code",
   "execution_count": 33,
   "metadata": {},
   "outputs": [],
   "source": [
    "# A=65, T=84, G=71, C=67 -> A=0, T=1, G=2, C=3\n",
    "seqs[seqs == 65] = 0\n",
    "seqs[seqs == 84] = 1\n",
    "seqs[seqs == 71] = 2\n",
    "seqs[seqs == 67] = 3"
   ]
  },
  {
   "cell_type": "code",
   "execution_count": 36,
   "metadata": {},
   "outputs": [
    {
     "data": {
      "text/plain": [
       "array([[3, 2, 1, ..., 1, 0, 3],\n",
       "       [2, 3, 2, ..., 3, 3, 1],\n",
       "       [0, 3, 3, ..., 0, 1, 3],\n",
       "       [2, 2, 3, ..., 1, 3, 0]])"
      ]
     },
     "execution_count": 36,
     "metadata": {},
     "output_type": "execute_result"
    }
   ],
   "source": [
    "#AA, AT, AG, AC,  -> AA, AT, AG, AC, TA, TT, TG, TC, GA, GT, GG, GC, CA, CT, CG, CC\n",
    "#TA, TT, TG, TC, \n",
    "#GA, GT, GG, GC, \n",
    "#CA, CT, CG, CC"
   ]
  },
  {
   "cell_type": "code",
   "execution_count": 63,
   "metadata": {},
   "outputs": [],
   "source": [
    "index_1616 = np.array(range(16)).reshape([4,4])\n",
    "matrix1616 = np.zeros(shape = [16,16]).astype(int)\n",
    "for column in range(len(seqs[0])):\n",
    "    current4=seqs[:,column]\n",
    "    row1616 = int(index_1616[current4[0],current4[1]])\n",
    "    column1616 = int(index_1616[current4[2],current4[3]])\n",
    "    matrix1616[row1616,column1616] = int(matrix1616[row1616,column1616] + int(1))"
   ]
  },
  {
   "cell_type": "code",
   "execution_count": 72,
   "metadata": {},
   "outputs": [
    {
     "data": {
      "text/plain": [
       "array([[ 9, 11,  5, 10, 13,  6, 11, 11,  7, 11,  9, 12,  6,  5,  5,  7],\n",
       "       [ 9, 10,  8, 12,  5, 13,  5,  6,  6,  5, 11,  9,  7,  8,  9,  7],\n",
       "       [ 3,  8, 13,  8,  8,  6,  9,  5,  9, 10,  8,  4,  7,  5,  6,  9],\n",
       "       [ 4,  4, 16,  3,  6,  6, 10,  3,  9,  5,  8,  7, 16, 10, 12, 17],\n",
       "       [12,  9,  8, 11, 13,  3, 14, 10, 10, 10, 10, 10, 11, 10,  5,  8],\n",
       "       [11,  3,  4,  9,  5,  7,  6, 12,  5, 15,  8,  7, 14,  7,  7, 15],\n",
       "       [ 4, 12,  8,  9,  8, 14,  5,  8,  5,  5,  9, 11,  4,  8,  7, 11],\n",
       "       [10, 10,  7, 12,  6, 10,  7,  4,  6, 12,  9,  9,  6,  6,  7,  6],\n",
       "       [ 8,  9,  9,  8,  6,  6,  9,  5, 11,  6,  7,  9,  6,  9,  7,  5],\n",
       "       [ 6,  9, 11, 12, 15,  9, 12, 10,  5,  4,  7,  5, 10,  6,  8,  6],\n",
       "       [ 6, 15,  7,  8, 13, 12, 14,  8,  8,  6,  2,  7,  7,  9,  6,  8],\n",
       "       [ 8,  8,  7, 13,  8,  5,  8,  9, 10,  6,  7,  5, 11,  8,  8, 11],\n",
       "       [ 7, 11,  8,  9, 16,  8, 14,  5, 13,  5,  5,  9,  9, 11, 13,  9],\n",
       "       [ 5, 11,  9,  7, 12,  8, 13, 10,  7,  8, 11,  8,  4, 10,  9, 12],\n",
       "       [ 7,  5,  7, 10,  3, 13,  9, 11, 10, 10, 11,  9,  8,  8,  9, 11],\n",
       "       [12,  9,  2, 10,  9,  8,  7, 14,  7,  5,  3, 11,  9, 11,  8, 14]])"
      ]
     },
     "execution_count": 72,
     "metadata": {},
     "output_type": "execute_result"
    }
   ],
   "source": [
    "matrix1616"
   ]
  },
  {
   "cell_type": "code",
   "execution_count": 62,
   "metadata": {},
   "outputs": [
    {
     "data": {
      "image/png": "[encoded data removed]",
      "text/plain": [
       "<matplotlib.figure.Figure at 0x11b316210>"
      ]
     },
     "metadata": {},
     "output_type": "display_data"
    }
   ],
   "source": [
    "plt.imshow(matrix1616)\n",
    "plt.show()"
   ]
  },
  {
   "cell_type": "code",
   "execution_count": 82,
   "metadata": {},
   "outputs": [],
   "source": [
    "ml_feats = np.vstack([ml_feats, matrix1616.reshape([1,256])[0]])"
   ]
  },
  {
   "cell_type": "code",
   "execution_count": 83,
   "metadata": {},
   "outputs": [
    {
     "data": {
      "text/plain": [
       "array([[ 9, 11,  5, 10, 13,  6, 11, 11,  7, 11,  9, 12,  6,  5,  5,  7,  9,\n",
       "        10,  8, 12,  5, 13,  5,  6,  6,  5, 11,  9,  7,  8,  9,  7,  3,  8,\n",
       "        13,  8,  8,  6,  9,  5,  9, 10,  8,  4,  7,  5,  6,  9,  4,  4, 16,\n",
       "         3,  6,  6, 10,  3,  9,  5,  8,  7, 16, 10, 12, 17, 12,  9,  8, 11,\n",
       "        13,  3, 14, 10, 10, 10, 10, 10, 11, 10,  5,  8, 11,  3,  4,  9,  5,\n",
       "         7,  6, 12,  5, 15,  8,  7, 14,  7,  7, 15,  4, 12,  8,  9,  8, 14,\n",
       "         5,  8,  5,  5,  9, 11,  4,  8,  7, 11, 10, 10,  7, 12,  6, 10,  7,\n",
       "         4,  6, 12,  9,  9,  6,  6,  7,  6,  8,  9,  9,  8,  6,  6,  9,  5,\n",
       "        11,  6,  7,  9,  6,  9,  7,  5,  6,  9, 11, 12, 15,  9, 12, 10,  5,\n",
       "         4,  7,  5, 10,  6,  8,  6,  6, 15,  7,  8, 13, 12, 14,  8,  8,  6,\n",
       "         2,  7,  7,  9,  6,  8,  8,  8,  7, 13,  8,  5,  8,  9, 10,  6,  7,\n",
       "         5, 11,  8,  8, 11,  7, 11,  8,  9, 16,  8, 14,  5, 13,  5,  5,  9,\n",
       "         9, 11, 13,  9,  5, 11,  9,  7, 12,  8, 13, 10,  7,  8, 11,  8,  4,\n",
       "        10,  9, 12,  7,  5,  7, 10,  3, 13,  9, 11, 10, 10, 11,  9,  8,  8,\n",
       "         9, 11, 12,  9,  2, 10,  9,  8,  7, 14,  7,  5,  3, 11,  9, 11,  8,\n",
       "        14]])"
      ]
     },
     "execution_count": 83,
     "metadata": {},
     "output_type": "execute_result"
    }
   ],
   "source": [
    "ml_feats"
   ]
  },
  {
   "cell_type": "markdown",
   "metadata": {},
   "source": [
    "Now let's write the whole thing out in one block:"
   ]
  },
  {
   "cell_type": "code",
   "execution_count": null,
   "metadata": {},
   "outputs": [
    {
     "name": "stdout",
     "output_type": "stream",
     "text": [
      "0\n",
      "1\n",
      "2\n"
     ]
    }
   ],
   "source": [
    "ml_feats = np.empty(shape = [0,256]).astype(int) # holds our data\n",
    "ml_labels = np.empty(shape = [0,1]) # holds our labels\n",
    "\n",
    "samplenum = 2000 # how many simulation samples\n",
    "# make list of migration rates\n",
    "mig_rate = np.append(np.random.gamma(shape = 1,  # make half of the rates positive and the other half zero\n",
    "                                     scale=.01,\n",
    "                                     size = int(samplenum/2.)),\n",
    "                     [0]*(int(samplenum/2.)))\n",
    "np.random.shuffle(mig_rate)\n",
    "\n",
    "# select window width \n",
    "win_width = [.05]*samplenum # if varying: np.random.uniform(0.03,0.1,size = 1000000)\n",
    "# select window center \n",
    "win_center = [.5]*samplenum # if varying: np.random.uniform(0.1, 0.9, size = 1000000)\n",
    "# get number of replicates\n",
    "#num_reps_list = [10000]*samplenum # if varying: (5000+np.random.randint(1,15000,1000000))*2\n",
    "\n",
    "for currsample in range(samplenum):\n",
    "    sample = currsample # usually this is written as a loop, where the sample variable is the loop number\n",
    "    length = 10000\n",
    "    Ne = 1000000\n",
    "    mutation_rate = 7e-8\n",
    "    num_replicates = 1\n",
    "    recombination_rate = 1e-8\n",
    "\n",
    "    # Four tips of the tree\n",
    "    population_configurations = [msprime.PopulationConfiguration(sample_size=1,initial_size=250000),\n",
    "                                msprime.PopulationConfiguration(sample_size=1,initial_size=250000),\n",
    "                                msprime.PopulationConfiguration(sample_size=1,initial_size=250000),\n",
    "                                msprime.PopulationConfiguration(sample_size=1,initial_size=250000),]\n",
    "\n",
    "    # No migration initially\n",
    "    migration_matrix = [[0.,0.,0.,0.],\n",
    "                        [0.,0.,0.,0.],\n",
    "                        [0.,0.,0.,0.],\n",
    "                        [0.,0.,0.,0.],]\n",
    "\n",
    "    # Define demographic events for msprime\n",
    "    demographic_events = [msprime.MigrationRateChange(time=0,\n",
    "                                                      rate=0),\n",
    "                         msprime.MigrationRateChange(time=(win_center[sample]-win_width[sample]/2.)*4*Ne,\n",
    "                                                     rate=mig_rate[sample],\n",
    "                                                     matrix_index=[0,2]),\n",
    "                         msprime.MigrationRateChange(time=(win_center[sample]+win_width[sample]/2.)*4*Ne,\n",
    "                                                     rate=0),\n",
    "                         msprime.MassMigration(destination=1,\n",
    "                                               source=0,\n",
    "                                               time=1.0*4*Ne,\n",
    "                                               proportion=1),\n",
    "                         msprime.MassMigration(destination=1, \n",
    "                                               source=2,\n",
    "                                               time=1.2*4*Ne,\n",
    "                                               proportion=1),\n",
    "                         msprime.MassMigration(destination=1, \n",
    "                                               source=3,\n",
    "                                               time=1.5*4*Ne,\n",
    "                                               proportion=1)\n",
    "                         ]\n",
    "\n",
    "    # Our msprime simulation:\n",
    "    simulation = msprime.simulate(length=length,\n",
    "                     Ne=Ne,\n",
    "                     mutation_rate=mutation_rate,\n",
    "                     num_replicates=num_replicates,\n",
    "                     recombination_rate=recombination_rate,\n",
    "                     population_configurations=population_configurations,\n",
    "                     migration_matrix = migration_matrix,         \n",
    "                     demographic_events=demographic_events)\n",
    "    fullseq = None\n",
    "    seqlength = 5\n",
    "    all_labels = np.empty(shape = [0,1])\n",
    "    all_seqs = np.empty(shape = [0,seqlength])\n",
    "    for currsim in simulation:\n",
    "        simtrees = currsim.trees()\n",
    "        for currtree in simtrees:\n",
    "            phylo = dendropy.TreeList.get(data = currtree.newick(),schema='newick')\n",
    "            s = seqgen.SeqGen()\n",
    "            s.seq_len = seqlength\n",
    "            s.scale_branch_lens = 0.00001 # will have to consider how best to use this\n",
    "            dnamat=s.generate(phylo)\n",
    "            charmat=dnamat.char_matrices[0]\n",
    "            for lab,seq in charmat.items():\n",
    "                all_labels = np.append(all_labels,lab.label)\n",
    "                all_seqs = np.vstack([all_seqs,np.array(seq.symbols_as_list())])\n",
    "    seqs = np.vstack([np.concatenate(all_seqs[all_labels == '1']),\n",
    "                      np.concatenate(all_seqs[all_labels == '2']),\n",
    "                      np.concatenate(all_seqs[all_labels == '3']),\n",
    "                      np.concatenate(all_seqs[all_labels == '4'])])\n",
    "    seqs = np.array([[ord(i) for i in q] for q in seqs])\n",
    "    # A=65, T=84, G=71, C=67 -> A=0, T=1, G=2, C=3\n",
    "    seqs[seqs == 65] = 0\n",
    "    seqs[seqs == 84] = 1\n",
    "    seqs[seqs == 71] = 2\n",
    "    seqs[seqs == 67] = 3\n",
    "\n",
    "    index_1616 = np.array(range(16)).reshape([4,4])\n",
    "    matrix1616 = np.zeros(shape = [16,16]).astype(int)\n",
    "    for column in range(len(seqs[0])):\n",
    "        current4=seqs[:,column]\n",
    "        row1616 = int(index_1616[current4[0],current4[1]])\n",
    "        column1616 = int(index_1616[current4[2],current4[3]])\n",
    "        matrix1616[row1616,column1616] = int(matrix1616[row1616,column1616] + int(1))\n",
    "\n",
    "    ml_feats = np.vstack([ml_feats, matrix1616.reshape([1,256])[0]])\n",
    "    ml_labels = np.vstack([ml_labels, mig_rate[sample]])\n",
    "    print(currsample)"
   ]
  },
  {
   "cell_type": "code",
   "execution_count": 86,
   "metadata": {},
   "outputs": [
    {
     "data": {
      "text/plain": [
       "array([[ 0.00384335],\n",
       "       [ 0.00419082],\n",
       "       [ 0.        ]])"
      ]
     },
     "execution_count": 86,
     "metadata": {},
     "output_type": "execute_result"
    }
   ],
   "source": [
    "ml_labels"
   ]
  },
  {
   "cell_type": "code",
   "execution_count": null,
   "metadata": {
    "collapsed": true
   },
   "outputs": [],
   "source": []
  }
 ],
 "metadata": {
  "kernelspec": {
   "display_name": "Python 2",
   "language": "python",
   "name": "python2"
  },
  "language_info": {
   "codemirror_mode": {
    "name": "ipython",
    "version": 2
   },
   "file_extension": ".py",
   "mimetype": "text/x-python",
   "name": "python",
   "nbconvert_exporter": "python",
   "pygments_lexer": "ipython2",
   "version": "2.7.13"
  }
 },
 "nbformat": 4,
 "nbformat_minor": 2
}
