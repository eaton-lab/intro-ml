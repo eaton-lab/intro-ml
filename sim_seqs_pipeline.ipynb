{
 "cells": [
  {
   "cell_type": "markdown",
   "metadata": {},
   "source": [
    "## Simulating sequences"
   ]
  },
  {
   "cell_type": "markdown",
   "metadata": {},
   "source": [
    "Full simulation pipeline to get DNA sequences via msprime and seq-gen, as well as to create the site-count matrix."
   ]
  },
  {
   "cell_type": "code",
   "execution_count": 339,
   "metadata": {
    "collapsed": true
   },
   "outputs": [],
   "source": [
    "import msprime\n",
    "import numpy as np\n",
    "import dendropy\n",
    "from dendropy.interop import seqgen\n",
    "import matplotlib.pyplot as plt\n",
    "import sklearn\n",
    "from sklearn import preprocessing"
   ]
  },
  {
   "cell_type": "code",
   "execution_count": 340,
   "metadata": {
    "collapsed": true
   },
   "outputs": [],
   "source": [
    "ml_feats = np.empty(shape = [0,256]).astype(int) # holds our data\n",
    "ml_labels = np.empty(shape = [0,1]) # holds our labels"
   ]
  },
  {
   "cell_type": "code",
   "execution_count": 341,
   "metadata": {
    "collapsed": true
   },
   "outputs": [],
   "source": [
    "samplenum = 2000 # how many simulation samples\n",
    "# make list of migration rates\n",
    "mig_rate = np.append(np.random.gamma(shape = 1,  # make half of the rates positive and the other half zero\n",
    "                                     scale=.00001,\n",
    "                                     size = int(samplenum/2.)),\n",
    "                     [0]*(int(samplenum/2.)))\n",
    "np.random.shuffle(mig_rate)\n",
    "\n",
    "# select window width \n",
    "win_width = [.05]*samplenum # if varying: np.random.uniform(0.03,0.1,size = 1000000)\n",
    "# select window center \n",
    "win_center = [.5]*samplenum # if varying: np.random.uniform(0.1, 0.9, size = 1000000)\n",
    "# get number of replicates\n",
    "#num_reps_list = [10000]*samplenum # if varying: (5000+np.random.randint(1,15000,1000000))*2"
   ]
  },
  {
   "cell_type": "code",
   "execution_count": 342,
   "metadata": {
    "collapsed": true
   },
   "outputs": [],
   "source": [
    "sample = 0 # usually this is written as a loop, where the sample variable is the loop number\n",
    "length = 10000\n",
    "Ne = 1000000\n",
    "mutation_rate = 7e-8\n",
    "num_replicates = 1\n",
    "recombination_rate = 1e-8\n",
    "\n",
    "# Four tips of the tree\n",
    "population_configurations = [msprime.PopulationConfiguration(sample_size=1,initial_size=250000),\n",
    "                            msprime.PopulationConfiguration(sample_size=1,initial_size=250000),\n",
    "                            msprime.PopulationConfiguration(sample_size=1,initial_size=250000),\n",
    "                            msprime.PopulationConfiguration(sample_size=1,initial_size=250000),]\n",
    "\n",
    "# No migration initially\n",
    "migration_matrix = [[0.,0.,0.,0.],\n",
    "                    [0.,0.,0.,0.],\n",
    "                    [0.,0.,0.,0.],\n",
    "                    [0.,0.,0.,0.],]\n",
    "\n",
    "# Define demographic events for msprime\n",
    "demographic_events = [msprime.MigrationRateChange(time=0,\n",
    "                                                  rate=0),\n",
    "                     msprime.MigrationRateChange(time=(win_center[sample]-win_width[sample]/2.)*4*Ne,\n",
    "                                                 rate=mig_rate[sample],\n",
    "                                                 matrix_index=[0,2]),\n",
    "                     msprime.MigrationRateChange(time=(win_center[sample]+win_width[sample]/2.)*4*Ne,\n",
    "                                                 rate=0),\n",
    "                     msprime.MassMigration(destination=1,\n",
    "                                           source=0,\n",
    "                                           time=1.0*4*Ne,\n",
    "                                           proportion=1),\n",
    "                     msprime.MassMigration(destination=1, \n",
    "                                           source=2,\n",
    "                                           time=1.2*4*Ne,\n",
    "                                           proportion=1),\n",
    "                     msprime.MassMigration(destination=1, \n",
    "                                           source=3,\n",
    "                                           time=1.5*4*Ne,\n",
    "                                           proportion=1)\n",
    "                     ]\n",
    "\n",
    "# Our msprime simulation:\n",
    "simulation = msprime.simulate(length=length,\n",
    "                 Ne=Ne,\n",
    "                 mutation_rate=mutation_rate,\n",
    "                 num_replicates=num_replicates,\n",
    "                 recombination_rate=recombination_rate,\n",
    "                 population_configurations=population_configurations,\n",
    "                 migration_matrix = migration_matrix,         \n",
    "                 demographic_events=demographic_events)\n"
   ]
  },
  {
   "cell_type": "code",
   "execution_count": 343,
   "metadata": {
    "collapsed": true
   },
   "outputs": [],
   "source": [
    "fullseq = None\n",
    "seqlength = 10\n",
    "all_labels = np.empty(shape = [0,1])\n",
    "all_seqs = np.empty(shape = [0,seqlength])\n",
    "for currsim in simulation:\n",
    "    simtrees = currsim.trees()\n",
    "    for currtree in simtrees:\n",
    "        phylo = dendropy.TreeList.get(data = currtree.newick(),schema='newick')\n",
    "        s = seqgen.SeqGen()\n",
    "        s.seq_len = seqlength\n",
    "        s.scale_branch_lens = 0.0000001 # will have to consider how best to use this\n",
    "        dnamat=s.generate(phylo)\n",
    "        charmat=dnamat.char_matrices[0]\n",
    "        for lab,seq in charmat.items():\n",
    "            all_labels = np.append(all_labels,lab.label)\n",
    "            all_seqs = np.vstack([all_seqs,np.array(seq.symbols_as_list())])"
   ]
  },
  {
   "cell_type": "code",
   "execution_count": 344,
   "metadata": {
    "collapsed": true
   },
   "outputs": [],
   "source": [
    "seqs = np.vstack([np.concatenate(all_seqs[all_labels == '1']),\n",
    "                  np.concatenate(all_seqs[all_labels == '2']),\n",
    "                  np.concatenate(all_seqs[all_labels == '3']),\n",
    "                  np.concatenate(all_seqs[all_labels == '4'])])\n",
    "seqs = np.array([[ord(i) for i in q] for q in seqs])"
   ]
  },
  {
   "cell_type": "code",
   "execution_count": 345,
   "metadata": {},
   "outputs": [],
   "source": [
    "# A=65, T=84, G=71, C=67 -> A=0, T=1, G=2, C=3\n",
    "seqs[seqs == 65] = 0\n",
    "seqs[seqs == 84] = 1\n",
    "seqs[seqs == 71] = 2\n",
    "seqs[seqs == 67] = 3"
   ]
  },
  {
   "cell_type": "code",
   "execution_count": 346,
   "metadata": {},
   "outputs": [],
   "source": [
    "#AA, AT, AG, AC,  -> AA, AT, AG, AC, TA, TT, TG, TC, GA, GT, GG, GC, CA, CT, CG, CC\n",
    "#TA, TT, TG, TC, \n",
    "#GA, GT, GG, GC, \n",
    "#CA, CT, CG, CC"
   ]
  },
  {
   "cell_type": "code",
   "execution_count": 347,
   "metadata": {},
   "outputs": [],
   "source": [
    "index_1616 = np.array(range(16)).reshape([4,4])\n",
    "matrix1616 = np.zeros(shape = [16,16]).astype(int)\n",
    "for column in range(len(seqs[0])):\n",
    "    current4=seqs[:,column]\n",
    "    row1616 = int(index_1616[current4[0],current4[1]])\n",
    "    column1616 = int(index_1616[current4[2],current4[3]])\n",
    "    matrix1616[row1616,column1616] = int(matrix1616[row1616,column1616] + int(1))"
   ]
  },
  {
   "cell_type": "code",
   "execution_count": 82,
   "metadata": {},
   "outputs": [],
   "source": [
    "ml_feats = np.vstack([ml_feats, matrix1616.reshape([1,256])[0]])"
   ]
  },
  {
   "cell_type": "code",
   "execution_count": 83,
   "metadata": {},
   "outputs": [
    {
     "data": {
      "text/plain": [
       "array([[ 9, 11,  5, 10, 13,  6, 11, 11,  7, 11,  9, 12,  6,  5,  5,  7,  9,\n",
       "        10,  8, 12,  5, 13,  5,  6,  6,  5, 11,  9,  7,  8,  9,  7,  3,  8,\n",
       "        13,  8,  8,  6,  9,  5,  9, 10,  8,  4,  7,  5,  6,  9,  4,  4, 16,\n",
       "         3,  6,  6, 10,  3,  9,  5,  8,  7, 16, 10, 12, 17, 12,  9,  8, 11,\n",
       "        13,  3, 14, 10, 10, 10, 10, 10, 11, 10,  5,  8, 11,  3,  4,  9,  5,\n",
       "         7,  6, 12,  5, 15,  8,  7, 14,  7,  7, 15,  4, 12,  8,  9,  8, 14,\n",
       "         5,  8,  5,  5,  9, 11,  4,  8,  7, 11, 10, 10,  7, 12,  6, 10,  7,\n",
       "         4,  6, 12,  9,  9,  6,  6,  7,  6,  8,  9,  9,  8,  6,  6,  9,  5,\n",
       "        11,  6,  7,  9,  6,  9,  7,  5,  6,  9, 11, 12, 15,  9, 12, 10,  5,\n",
       "         4,  7,  5, 10,  6,  8,  6,  6, 15,  7,  8, 13, 12, 14,  8,  8,  6,\n",
       "         2,  7,  7,  9,  6,  8,  8,  8,  7, 13,  8,  5,  8,  9, 10,  6,  7,\n",
       "         5, 11,  8,  8, 11,  7, 11,  8,  9, 16,  8, 14,  5, 13,  5,  5,  9,\n",
       "         9, 11, 13,  9,  5, 11,  9,  7, 12,  8, 13, 10,  7,  8, 11,  8,  4,\n",
       "        10,  9, 12,  7,  5,  7, 10,  3, 13,  9, 11, 10, 10, 11,  9,  8,  8,\n",
       "         9, 11, 12,  9,  2, 10,  9,  8,  7, 14,  7,  5,  3, 11,  9, 11,  8,\n",
       "        14]])"
      ]
     },
     "execution_count": 83,
     "metadata": {},
     "output_type": "execute_result"
    }
   ],
   "source": [
    "ml_feats"
   ]
  },
  {
   "cell_type": "markdown",
   "metadata": {},
   "source": [
    "Now let's write the whole thing out in one block:"
   ]
  },
  {
   "cell_type": "code",
   "execution_count": null,
   "metadata": {},
   "outputs": [
    {
     "name": "stdout",
     "output_type": "stream",
     "text": [
      "0\n",
      "1.82606827159e-05\n",
      "1\n",
      "1.96851434507e-05\n",
      "2\n",
      "0.0\n",
      "3\n",
      "0.0\n",
      "4\n",
      "2.09512095854e-05\n",
      "5\n",
      "0.0\n",
      "6\n",
      "0.0\n",
      "7\n",
      "0.0\n",
      "8\n",
      "1.41945925442e-05\n",
      "9\n",
      "2.68636291641e-05\n",
      "10\n",
      "3.48648468348e-06\n",
      "11\n",
      "0.0\n",
      "12\n",
      "1.5517505691e-07\n",
      "13\n",
      "0.0\n",
      "14\n",
      "1.50314443753e-05\n"
     ]
    }
   ],
   "source": [
    "ml_feats = np.empty(shape = [0,256]).astype(int) # holds our data\n",
    "ml_labels = np.empty(shape = [0,1]) # holds our labels\n",
    "\n",
    "samplenum = 10000 # how many simulation samples\n",
    "# make list of migration rates\n",
    "mig_rate = np.append(np.random.gamma(shape = 1,  # make half of the rates positive and the other half zero\n",
    "                                     scale=.00001,\n",
    "                                     size = int(samplenum/2.)),\n",
    "                     [0]*(int(samplenum/2.)))\n",
    "np.random.shuffle(mig_rate)\n",
    "\n",
    "# select window width \n",
    "win_width = [.05]*samplenum # if varying: np.random.uniform(0.03,0.1,size = 1000000)\n",
    "# select window center \n",
    "win_center = [.5]*samplenum # if varying: np.random.uniform(0.1, 0.9, size = 1000000)\n",
    "# get number of replicates\n",
    "#num_reps_list = [10000]*samplenum # if varying: (5000+np.random.randint(1,15000,1000000))*2\n",
    "\n",
    "for currsample in range(samplenum):\n",
    "    sample = currsample # usually this is written as a loop, where the sample variable is the loop number\n",
    "    length = 10000\n",
    "    Ne = 1000000\n",
    "    mutation_rate = 7e-8\n",
    "    num_replicates = 1\n",
    "    recombination_rate = 1e-8\n",
    "\n",
    "    # Four tips of the tree\n",
    "    population_configurations = [msprime.PopulationConfiguration(sample_size=1,initial_size=250000),\n",
    "                                msprime.PopulationConfiguration(sample_size=1,initial_size=250000),\n",
    "                                msprime.PopulationConfiguration(sample_size=1,initial_size=250000),\n",
    "                                msprime.PopulationConfiguration(sample_size=1,initial_size=250000),]\n",
    "\n",
    "    # No migration initially\n",
    "    migration_matrix = [[0.,0.,0.,0.],\n",
    "                        [0.,0.,0.,0.],\n",
    "                        [0.,0.,0.,0.],\n",
    "                        [0.,0.,0.,0.],]\n",
    "\n",
    "    # Define demographic events for msprime\n",
    "    demographic_events = [msprime.MigrationRateChange(time=0,\n",
    "                                                      rate=0),\n",
    "                         msprime.MigrationRateChange(time=(win_center[sample]-win_width[sample]/2.)*4*Ne,\n",
    "                                                     rate=mig_rate[sample],\n",
    "                                                     matrix_index=[0,2]),\n",
    "                         msprime.MigrationRateChange(time=(win_center[sample]+win_width[sample]/2.)*4*Ne,\n",
    "                                                     rate=0),\n",
    "                         msprime.MassMigration(destination=1,\n",
    "                                               source=0,\n",
    "                                               time=1.0*4*Ne,\n",
    "                                               proportion=1),\n",
    "                         msprime.MassMigration(destination=1, \n",
    "                                               source=2,\n",
    "                                               time=1.2*4*Ne,\n",
    "                                               proportion=1),\n",
    "                         msprime.MassMigration(destination=1, \n",
    "                                               source=3,\n",
    "                                               time=1.5*4*Ne,\n",
    "                                               proportion=1)\n",
    "                         ]\n",
    "\n",
    "    # Our msprime simulation:\n",
    "    simulation = msprime.simulate(length=length,\n",
    "                     Ne=Ne,\n",
    "                     mutation_rate=mutation_rate,\n",
    "                     num_replicates=num_replicates,\n",
    "                     recombination_rate=recombination_rate,\n",
    "                     population_configurations=population_configurations,\n",
    "                     migration_matrix = migration_matrix,         \n",
    "                     demographic_events=demographic_events)\n",
    "    fullseq = None\n",
    "    seqlength = 5\n",
    "    all_labels = np.empty(shape = [0,1])\n",
    "    all_seqs = np.empty(shape = [0,seqlength])\n",
    "    for currsim in simulation:\n",
    "        simtrees = currsim.trees()\n",
    "        for currtree in simtrees:\n",
    "            phylo = dendropy.TreeList.get(data = currtree.newick(),schema='newick')\n",
    "            s = seqgen.SeqGen()\n",
    "            s.seq_len = seqlength\n",
    "            s.scale_branch_lens = 0.0000001 # will have to consider how best to use this\n",
    "            dnamat=s.generate(phylo)\n",
    "            charmat=dnamat.char_matrices[0]\n",
    "            for lab,seq in charmat.items():\n",
    "                all_labels = np.append(all_labels,lab.label)\n",
    "                all_seqs = np.vstack([all_seqs,np.array(seq.symbols_as_list())])\n",
    "    seqs = np.vstack([np.concatenate(all_seqs[all_labels == '1']),\n",
    "                      np.concatenate(all_seqs[all_labels == '2']),\n",
    "                      np.concatenate(all_seqs[all_labels == '3']),\n",
    "                      np.concatenate(all_seqs[all_labels == '4'])])\n",
    "    seqs = np.array([[ord(i) for i in q] for q in seqs])\n",
    "    # A=65, T=84, G=71, C=67 -> A=0, T=1, G=2, C=3\n",
    "    seqs[seqs == 65] = 0\n",
    "    seqs[seqs == 84] = 1\n",
    "    seqs[seqs == 71] = 2\n",
    "    seqs[seqs == 67] = 3\n",
    "\n",
    "    index_1616 = np.array(range(16)).reshape([4,4])\n",
    "    matrix1616 = np.zeros(shape = [16,16]).astype(int)\n",
    "    for column in range(len(seqs[0])):\n",
    "        current4=seqs[:,column]\n",
    "        row1616 = int(index_1616[current4[0],current4[1]])\n",
    "        column1616 = int(index_1616[current4[2],current4[3]])\n",
    "        matrix1616[row1616,column1616] = int(matrix1616[row1616,column1616] + int(1))\n",
    "\n",
    "    ml_feats = np.vstack([ml_feats, matrix1616.reshape([1,256])[0]])\n",
    "    ml_labels = np.vstack([ml_labels, mig_rate[sample]])\n",
    "    print(sample)\n",
    "    print(mig_rate[sample])"
   ]
  },
  {
   "cell_type": "code",
   "execution_count": 536,
   "metadata": {
    "collapsed": true
   },
   "outputs": [],
   "source": [
    "import h5py\n",
    "f = h5py.File(\"sim_counts.hdf5\", \"w\")\n",
    "f.create_dataset(\"labels\", (len(ml_labels),))\n",
    "f.create_dataset(\"matrices\",(ml_feats.shape),dtype = 'i')\n",
    "f['labels'][...] = ml_labels.reshape(1,-1)[0]\n",
    "f['matrices'][...] = ml_feats\n",
    "f.close()"
   ]
  },
  {
   "cell_type": "code",
   "execution_count": 541,
   "metadata": {},
   "outputs": [],
   "source": [
    "norm=preprocessing.Normalizer(copy=False,norm='l1')\n",
    "trans_norm = norm.transform(ml_feats)"
   ]
  },
  {
   "cell_type": "code",
   "execution_count": 612,
   "metadata": {
    "collapsed": true
   },
   "outputs": [],
   "source": [
    "scaler = sklearn.preprocessing.StandardScaler()\n",
    "scaler.fit(trans_norm)  \n",
    "scaled = scaler.transform(trans_norm)"
   ]
  },
  {
   "cell_type": "code",
   "execution_count": 613,
   "metadata": {},
   "outputs": [
    {
     "data": {
      "text/plain": [
       "array([-0.48370429, -1.00390905, -0.86053336, -1.59958554, -0.8181108 ,\n",
       "        0.04095957,  0.64264002, -0.18498493,  1.14847818,  1.01479867,\n",
       "        0.05262954,  0.23942338, -0.14972757,  0.60999688, -0.19274504,\n",
       "        0.69460265,  0.6063746 , -0.36476589, -0.3113614 ,  0.5106361 ,\n",
       "        0.84617939,  1.39649867, -1.38191414,  0.55934894, -0.63624077,\n",
       "        0.8743381 ,  0.86640402, -0.11126816,  1.02012636,  1.46367954,\n",
       "       -0.08089967, -0.63193783, -0.02927382, -1.45242159, -0.95016155,\n",
       "       -0.58877858, -0.62052342, -0.09239707,  0.36732219, -0.79410383,\n",
       "       -1.97595278, -0.40388187,  1.19088456,  1.9743564 , -0.639008  ,\n",
       "        1.843178  , -0.67048564,  1.96626602,  0.0198934 ,  0.31751106,\n",
       "       -0.86877164, -0.57207487,  0.43909376,  1.56348571,  0.50566995,\n",
       "       -0.67093093, -1.16168781, -0.09453665,  1.43877087, -0.17983128,\n",
       "        3.57534188, -0.43146444,  0.5325436 , -0.18113675, -0.18387631,\n",
       "       -1.17892403, -0.84002156,  1.91291248, -0.938368  , -1.77168707,\n",
       "        0.30134481, -1.17479676,  0.90886098,  1.00563709, -1.10109204,\n",
       "       -0.11346971,  0.92563733, -0.10539835,  1.17164135, -0.09371851,\n",
       "       -0.59624393,  1.65085514, -0.2076445 ,  1.83523133, -0.33301948,\n",
       "        0.23906568, -0.98381466,  1.0584534 ,  0.18367954,  0.30155919,\n",
       "       -0.55381608, -0.59513159,  1.83760702,  0.51617683,  1.37505451,\n",
       "        3.62755827, -1.17957415,  0.47752532, -1.75753335,  1.11125422,\n",
       "       -0.59698583,  0.5979038 , -0.76512933, -0.51920101,  2.00947515,\n",
       "        0.96913949,  1.16133101, -1.4073927 ,  3.24574429,  0.40998144,\n",
       "       -0.68293997, -0.10989127, -0.62171134,  0.92794992, -1.36921416,\n",
       "        0.35258648, -1.16240924,  0.39563046, -0.87914133, -1.19087465,\n",
       "        0.53788018,  0.49641799,  0.42975895, -0.12888008,  2.47732857,\n",
       "       -0.77511952,  1.51987473,  0.94437686,  0.34393259, -0.43106624,\n",
       "       -0.80032749,  1.96067029, -0.14697485,  1.41076243,  1.54317161,\n",
       "        3.03876683, -0.74534778, -1.68400792, -1.60052287, -1.69675461,\n",
       "       -1.29070349, -1.48717402, -1.18419905, -0.10378173,  1.89152446,\n",
       "        0.35706339,  2.12450876, -0.13159599,  0.54354229,  0.35800369,\n",
       "        4.63001067,  4.73660344,  0.81305405, -1.57750896, -0.76002031,\n",
       "       -0.31288297,  0.50912047, -0.70138086,  0.46873564, -0.66201207,\n",
       "        1.07326495, -0.96962082, -0.18374988,  0.60533253,  1.75061607,\n",
       "        0.99448597,  0.03750374, -0.21563505,  0.24414211, -0.3018412 ,\n",
       "       -2.27735264, -0.98813666,  3.09540043, -0.21389466,  0.48945501,\n",
       "        0.42610864, -0.58914546,  0.47835315,  1.51898816, -0.20570984,\n",
       "       -0.80416028, -0.09195671,  0.45922732, -1.2303328 , -1.97088985,\n",
       "       -0.54608363, -1.02458278, -0.75998759, -0.41136855,  0.97339587,\n",
       "        0.46082612,  0.11057561,  0.90657746,  0.0476003 , -0.93464304,\n",
       "        0.44598229,  0.39779829,  1.99298062,  1.86902022,  1.00140319,\n",
       "       -1.22488898, -0.17203704, -0.08847185, -0.06486458, -0.5501166 ,\n",
       "       -1.10784681,  0.31357852, -0.36354842, -0.14570494, -0.18026338,\n",
       "       -0.14100435,  1.0102686 , -0.94591938,  2.08462759,  0.0689928 ,\n",
       "        0.07770276,  1.77992812, -0.12893945, -0.10220802, -1.76642385,\n",
       "       -0.28725561, -1.35314239,  0.01900598, -0.59607934,  1.47435303,\n",
       "        1.12171688,  0.39279698, -1.12681357, -1.43841193,  1.93887929,\n",
       "        0.32614176,  1.47118839,  0.50334042,  0.12581885,  0.63826224,\n",
       "        0.89959573, -0.56806893,  0.60005346, -1.40026423, -1.15127172,\n",
       "        0.06580961,  1.843407  ,  0.63873543,  0.03139898,  0.59700783,\n",
       "       -0.27033669,  0.62679676,  2.68966469, -0.99138267,  0.58001364,\n",
       "        0.3514058 ,  1.33482673, -1.948696  , -0.26658795, -0.89008784,\n",
       "       -0.52637358])"
      ]
     },
     "execution_count": 613,
     "metadata": {},
     "output_type": "execute_result"
    }
   ],
   "source": [
    "scaled[0]"
   ]
  },
  {
   "cell_type": "code",
   "execution_count": 542,
   "metadata": {
    "collapsed": true
   },
   "outputs": [],
   "source": [
    "int_mig_rate=(mig_rate > 0).astype(int)"
   ]
  },
  {
   "cell_type": "code",
   "execution_count": 543,
   "metadata": {},
   "outputs": [
    {
     "data": {
      "text/plain": [
       "SVC(C=1000, cache_size=200, class_weight=None, coef0=0.0,\n",
       "  decision_function_shape='ovr', degree=3, gamma='auto', kernel='rbf',\n",
       "  max_iter=-1, probability=False, random_state=None, shrinking=True,\n",
       "  tol=0.001, verbose=False)"
      ]
     },
     "execution_count": 543,
     "metadata": {},
     "output_type": "execute_result"
    }
   ],
   "source": [
    "from sklearn import svm\n",
    "X = trans_norm[0:1000]\n",
    "y = int_mig_rate[0:1000]\n",
    "clf = svm.SVC(C=1000)\n",
    "clf.fit(X, y)  "
   ]
  },
  {
   "cell_type": "code",
   "execution_count": 544,
   "metadata": {
    "collapsed": true
   },
   "outputs": [],
   "source": [
    "testset = np.empty(shape=[0,257])\n",
    "for i in range(1000,1300):\n",
    "    testset=np.vstack([testset,np.append(mig_rate[i],trans_norm[i])])"
   ]
  },
  {
   "cell_type": "code",
   "execution_count": 545,
   "metadata": {
    "collapsed": true
   },
   "outputs": [],
   "source": [
    "testset[:,0] = (testset[:,0] > 0).astype(int)\n",
    "sorted_test= testset[testset[:,0].argsort()]"
   ]
  },
  {
   "cell_type": "code",
   "execution_count": 546,
   "metadata": {},
   "outputs": [
    {
     "data": {
      "image/png": "[encoded data removed]",
      "text/plain": [
       "<matplotlib.figure.Figure at 0x1197c0690>"
      ]
     },
     "metadata": {},
     "output_type": "display_data"
    }
   ],
   "source": [
    "plt.plot(sorted_test[:,0], 'ro')\n",
    "plt.show()"
   ]
  },
  {
   "cell_type": "code",
   "execution_count": 547,
   "metadata": {},
   "outputs": [
    {
     "data": {
      "image/png": "[encoded data removed]",
      "text/plain": [
       "<matplotlib.figure.Figure at 0x1198476d0>"
      ]
     },
     "metadata": {},
     "output_type": "display_data"
    }
   ],
   "source": [
    "plt.plot(clf.predict(sorted_test[:,1:257]),'ro')\n",
    "plt.show()"
   ]
  },
  {
   "cell_type": "code",
   "execution_count": 662,
   "metadata": {},
   "outputs": [
    {
     "data": {
      "text/plain": [
       "SVR(C=1000, cache_size=200, coef0=0.0, degree=3, epsilon=0.01, gamma='auto',\n",
       "  kernel='rbf', max_iter=-1, shrinking=True, tol=0.001, verbose=False)"
      ]
     },
     "execution_count": 662,
     "metadata": {},
     "output_type": "execute_result"
    }
   ],
   "source": [
    "from sklearn import svm\n",
    "X = scaled[0:1000]\n",
    "y = mig_rate[0:1000]\n",
    "regr = svm.SVR(C=1000,epsilon=.01)\n",
    "regr.fit(X, y)  "
   ]
  },
  {
   "cell_type": "code",
   "execution_count": 615,
   "metadata": {
    "collapsed": true
   },
   "outputs": [],
   "source": [
    "testset = np.empty(shape=[0,257])\n",
    "for i in range(1000,1300):\n",
    "    testset=np.vstack([testset,np.append(mig_rate[i],scaled[i])])"
   ]
  },
  {
   "cell_type": "code",
   "execution_count": 616,
   "metadata": {
    "collapsed": true
   },
   "outputs": [],
   "source": [
    "#testset[:,0] = (testset[:,0] > 0).astype(int)\n",
    "sorted_test= testset[testset[:,0].argsort()]"
   ]
  },
  {
   "cell_type": "code",
   "execution_count": 617,
   "metadata": {},
   "outputs": [
    {
     "data": {
      "image/png": "[encoded data removed]",
      "text/plain": [
       "<matplotlib.figure.Figure at 0x1224f1e50>"
      ]
     },
     "metadata": {},
     "output_type": "display_data"
    }
   ],
   "source": [
    "plt.plot(sorted_test[:,0], 'ro')\n",
    "plt.show()"
   ]
  },
  {
   "cell_type": "code",
   "execution_count": 663,
   "metadata": {},
   "outputs": [
    {
     "data": {
      "image/png": "[encoded data removed]",
      "text/plain": [
       "<matplotlib.figure.Figure at 0x1216b0350>"
      ]
     },
     "metadata": {},
     "output_type": "display_data"
    }
   ],
   "source": [
    "plt.plot(regr.predict(sorted_test[:,1:257]),'ro')\n",
    "plt.show()"
   ]
  },
  {
   "cell_type": "code",
   "execution_count": 584,
   "metadata": {},
   "outputs": [],
   "source": [
    "from sklearn.decomposition import KernelPCA"
   ]
  },
  {
   "cell_type": "code",
   "execution_count": 585,
   "metadata": {},
   "outputs": [],
   "source": [
    "rbf_pca = KernelPCA(n_components=2, kernel = 'rbf', gamma = .0004)"
   ]
  },
  {
   "cell_type": "code",
   "execution_count": 586,
   "metadata": {
    "collapsed": true
   },
   "outputs": [],
   "source": [
    "X_red = rbf_pca.fit_transform(trans_norm)"
   ]
  },
  {
   "cell_type": "code",
   "execution_count": 587,
   "metadata": {},
   "outputs": [],
   "source": [
    "zeros = X_red[(int_mig_rate==0)[0:len(trans_norm)],:]\n",
    "ones = X_red[(int_mig_rate==1)[0:len(trans_norm)],:]"
   ]
  },
  {
   "cell_type": "code",
   "execution_count": 588,
   "metadata": {},
   "outputs": [
    {
     "data": {
      "image/png": "[encoded data removed]",
      "text/plain": [
       "<matplotlib.figure.Figure at 0x1215e2b90>"
      ]
     },
     "metadata": {},
     "output_type": "display_data"
    }
   ],
   "source": [
    "fig = plt.figure()\n",
    "ax1 = fig.add_subplot(111)\n",
    "\n",
    "ax1.scatter(zeros[:,0]*10,zeros[:,1]*10, s=10, c='b', marker=\"s\", label='no migration')\n",
    "ax1.scatter(ones[:,0]*10,ones[:,1]*10, s=10, c='r', marker=\"o\", label='with migration')\n",
    "plt.legend(loc='upper left');\n",
    "plt.title(\"PCA: migration vs. no migration\")\n",
    "plt.show()"
   ]
  },
  {
   "cell_type": "code",
   "execution_count": 592,
   "metadata": {},
   "outputs": [],
   "source": [
    "from sklearn.model_selection import train_test_split\n",
    "from sklearn.metrics import mean_squared_error\n",
    "\n",
    "X_train, X_val, y_train, y_val = train_test_split(trans_norm,ml_labels.reshape(1,-1)[0])"
   ]
  },
  {
   "cell_type": "code",
   "execution_count": 594,
   "metadata": {},
   "outputs": [
    {
     "data": {
      "text/plain": [
       "12"
      ]
     },
     "execution_count": 594,
     "metadata": {},
     "output_type": "execute_result"
    }
   ],
   "source": [
    "gbrt=GradientBoostingRegressor(max_depth=2, n_estimators=120)\n",
    "gbrt.fit(X_train, y_train)\n",
    "\n",
    "errors = [mean_squared_error(y_val, y_pred) for y_pred in gbrt.staged_predict(X_val)]\n",
    "bst_n_estimators = np.argmin(errors)\n",
    "bst_n_estimators"
   ]
  },
  {
   "cell_type": "code",
   "execution_count": 595,
   "metadata": {},
   "outputs": [
    {
     "data": {
      "text/plain": [
       "GradientBoostingRegressor(alpha=0.9, criterion='friedman_mse', init=None,\n",
       "             learning_rate=0.1, loss='ls', max_depth=2, max_features=None,\n",
       "             max_leaf_nodes=None, min_impurity_decrease=0.0,\n",
       "             min_impurity_split=None, min_samples_leaf=1,\n",
       "             min_samples_split=2, min_weight_fraction_leaf=0.0,\n",
       "             n_estimators=12, presort='auto', random_state=None,\n",
       "             subsample=1.0, verbose=0, warm_start=False)"
      ]
     },
     "execution_count": 595,
     "metadata": {},
     "output_type": "execute_result"
    }
   ],
   "source": [
    "gbrt_best = GradientBoostingRegressor(max_depth=2,n_estimators=12)\n",
    "gbrt_best.fit(trans_norm[0:1000], ml_labels.reshape(1,-1)[0][0:1000])"
   ]
  },
  {
   "cell_type": "code",
   "execution_count": 596,
   "metadata": {},
   "outputs": [
    {
     "data": {
      "image/png": "[encoded data removed]",
      "text/plain": [
       "<matplotlib.figure.Figure at 0x121406050>"
      ]
     },
     "metadata": {},
     "output_type": "display_data"
    }
   ],
   "source": [
    "plt.plot(sorted_test[:,0], 'ro')\n",
    "plt.show()"
   ]
  },
  {
   "cell_type": "code",
   "execution_count": 597,
   "metadata": {},
   "outputs": [
    {
     "data": {
      "image/png": "[encoded data removed]",
      "text/plain": [
       "<matplotlib.figure.Figure at 0x120690910>"
      ]
     },
     "metadata": {},
     "output_type": "display_data"
    }
   ],
   "source": [
    "plt.plot(gbrt_best.predict(sorted_test[:,1:257]),'ro')\n",
    "plt.show()"
   ]
  },
  {
   "cell_type": "code",
   "execution_count": 526,
   "metadata": {},
   "outputs": [],
   "source": [
    "import h5py\n",
    "f = h5py.File(\"test.hdf5\", \"w\")\n",
    "f.create_dataset(\"labels\", (len(ml_labels),))\n",
    "f.create_dataset(\"matrices\",(ml_feats.shape),dtype = 'i')\n",
    "f['labels'][...] = ml_labels.reshape(1,-1)[0]\n",
    "f['matrices'][...] = ml_feats\n",
    "f.close()"
   ]
  },
  {
   "cell_type": "markdown",
   "metadata": {},
   "source": [
    "Try a neural network."
   ]
  },
  {
   "cell_type": "code",
   "execution_count": 664,
   "metadata": {
    "collapsed": true
   },
   "outputs": [],
   "source": [
    "from sklearn.neural_network import MLPRegressor"
   ]
  },
  {
   "cell_type": "code",
   "execution_count": 746,
   "metadata": {},
   "outputs": [
    {
     "data": {
      "text/plain": [
       "MLPRegressor(activation='tanh', alpha=1e-10, batch_size='auto', beta_1=0.9,\n",
       "       beta_2=0.999, early_stopping=False, epsilon=1e-08,\n",
       "       hidden_layer_sizes=(7, 3), learning_rate='constant',\n",
       "       learning_rate_init=0.001, max_iter=1000000, momentum=0.3,\n",
       "       nesterovs_momentum=True, power_t=0.5, random_state=8, shuffle=True,\n",
       "       solver='lbfgs', tol=1e-10, validation_fraction=0.1, verbose=False,\n",
       "       warm_start=False)"
      ]
     },
     "execution_count": 746,
     "metadata": {},
     "output_type": "execute_result"
    }
   ],
   "source": [
    "neuralnet = MLPRegressor(solver='lbfgs',activation='tanh', alpha=1e-10,hidden_layer_sizes=(7,3), random_state=8,max_iter=1000000,\n",
    "                        tol=1e-10,momentum = 0.3)\n",
    "X = scaled[0:1000]\n",
    "y = mig_rate[0:1000]\n",
    "neuralnet.fit(X,y)"
   ]
  },
  {
   "cell_type": "code",
   "execution_count": 747,
   "metadata": {},
   "outputs": [
    {
     "data": {
      "image/png": "[encoded data removed]",
      "text/plain": [
       "<matplotlib.figure.Figure at 0x12155e8d0>"
      ]
     },
     "metadata": {},
     "output_type": "display_data"
    }
   ],
   "source": [
    "plt.plot(neuralnet.predict(sorted_test[:,1:257]),'ro')\n",
    "plt.show()"
   ]
  },
  {
   "cell_type": "markdown",
   "metadata": {},
   "source": [
    "Really strange that these values all come out at the gamma value used here."
   ]
  },
  {
   "cell_type": "code",
   "execution_count": null,
   "metadata": {
    "collapsed": true
   },
   "outputs": [],
   "source": []
  }
 ],
 "metadata": {
  "kernelspec": {
   "display_name": "Python 2",
   "language": "python",
   "name": "python2"
  },
  "language_info": {
   "codemirror_mode": {
    "name": "ipython",
    "version": 2
   },
   "file_extension": ".py",
   "mimetype": "text/x-python",
   "name": "python",
   "nbconvert_exporter": "python",
   "pygments_lexer": "ipython2",
   "version": "2.7.13"
  }
 },
 "nbformat": 4,
 "nbformat_minor": 2
}
