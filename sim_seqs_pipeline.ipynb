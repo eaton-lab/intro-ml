{
 "cells": [
  {
   "cell_type": "markdown",
   "metadata": {},
   "source": [
    "## Simulating sequences"
   ]
  },
  {
   "cell_type": "markdown",
   "metadata": {},
   "source": [
    "Full simulation pipeline to get DNA sequences via msprime and seq-gen, as well as to create the site-count matrix."
   ]
  },
  {
   "cell_type": "code",
   "execution_count": 23,
   "metadata": {
    "collapsed": true
   },
   "outputs": [],
   "source": [
    "import msprime\n",
    "import numpy as np\n",
    "import dendropy\n",
    "from dendropy.interop import seqgen"
   ]
  },
  {
   "cell_type": "code",
   "execution_count": 11,
   "metadata": {},
   "outputs": [],
   "source": [
    "samplenum = 2000 # how many simulation samples\n",
    "# make list of migration rates\n",
    "mig_rate = np.append(np.random.gamma(shape = 1,  # make half of the rates positive and the other half zero\n",
    "                                     scale=.01,\n",
    "                                     size = int(samplenum/2.)),\n",
    "                     [0]*(int(samplenum/2.)))\n",
    "np.random.shuffle(mig_rate)\n",
    "\n",
    "# select window width \n",
    "win_width = [.05]*samplenum # if varying: np.random.uniform(0.03,0.1,size = 1000000)\n",
    "# select window center \n",
    "win_center = [.5]*samplenum # if varying: np.random.uniform(0.1, 0.9, size = 1000000)\n",
    "# get number of replicates\n",
    "#num_reps_list = [10000]*samplenum # if varying: (5000+np.random.randint(1,15000,1000000))*2"
   ]
  },
  {
   "cell_type": "code",
   "execution_count": 267,
   "metadata": {},
   "outputs": [],
   "source": [
    "sample = 0\n",
    "length = 10000\n",
    "Ne = 1000000\n",
    "mutation_rate = 7e-8\n",
    "num_replicates = 1\n",
    "recombination_rate = 1e-8\n",
    "\n",
    "# Four tips of the tree\n",
    "population_configurations = [msprime.PopulationConfiguration(sample_size=1,initial_size=250000),\n",
    "                            msprime.PopulationConfiguration(sample_size=1,initial_size=250000),\n",
    "                            msprime.PopulationConfiguration(sample_size=1,initial_size=250000),\n",
    "                            msprime.PopulationConfiguration(sample_size=1,initial_size=250000),]\n",
    "\n",
    "# No migration initially\n",
    "migration_matrix = [[0.,0.,0.,0.],\n",
    "                    [0.,0.,0.,0.],\n",
    "                    [0.,0.,0.,0.],\n",
    "                    [0.,0.,0.,0.],]\n",
    "\n",
    "# Define demographic events for msprime\n",
    "demographic_events = [msprime.MigrationRateChange(time=0,\n",
    "                                                  rate=0),\n",
    "                     msprime.MigrationRateChange(time=(win_center[sample]-win_width[sample]/2.)*4*Ne,\n",
    "                                                 rate=mig_rate[sample],\n",
    "                                                 matrix_index=[0,2]),\n",
    "                     msprime.MigrationRateChange(time=(win_center[sample]+win_width[sample]/2.)*4*Ne,\n",
    "                                                 rate=0),\n",
    "                     msprime.MassMigration(destination=1,\n",
    "                                           source=0,\n",
    "                                           time=1.0*4*Ne,\n",
    "                                           proportion=1),\n",
    "                     msprime.MassMigration(destination=1, \n",
    "                                           source=2,\n",
    "                                           time=1.2*4*Ne,\n",
    "                                           proportion=1),\n",
    "                     msprime.MassMigration(destination=1, \n",
    "                                           source=3,\n",
    "                                           time=1.5*4*Ne,\n",
    "                                           proportion=1)\n",
    "                     ]\n",
    "\n",
    "# Our msprime simulation:\n",
    "simulation = msprime.simulate(length=length,\n",
    "                 Ne=Ne,\n",
    "                 mutation_rate=mutation_rate,\n",
    "                 num_replicates=num_replicates,\n",
    "                 recombination_rate=recombination_rate,\n",
    "                 population_configurations=population_configurations,\n",
    "                 migration_matrix = migration_matrix,         \n",
    "                 demographic_events=demographic_events)\n"
   ]
  },
  {
   "cell_type": "code",
   "execution_count": 268,
   "metadata": {},
   "outputs": [],
   "source": [
    "fullseq = None\n",
    "seqlength = 5\n",
    "all_labels = np.empty(shape = [0,1])\n",
    "all_seqs = np.empty(shape = [0,seqlength])\n",
    "for currsim in simulation:\n",
    "    simtrees = currsim.trees()\n",
    "    for currtree in simtrees:\n",
    "        phylo = dendropy.TreeList.get(data = currtree.newick(),schema='newick')\n",
    "        s = seqgen.SeqGen()\n",
    "        s.seq_len = seqlength\n",
    "        s.scale_branch_lens = 0.00001 # will have to consider how best to use this\n",
    "        dnamat=s.generate(phylo)\n",
    "        charmat=dnamat.char_matrices[0]\n",
    "        for lab,seq in charmat.items():\n",
    "            all_labels = np.append(all_labels,lab.label)\n",
    "            all_seqs = np.vstack([all_seqs,np.array(seq.symbols_as_list())])"
   ]
  },
  {
   "cell_type": "code",
   "execution_count": 269,
   "metadata": {},
   "outputs": [],
   "source": [
    "seqs = np.vstack([np.concatenate(all_seqs[all_labels == '1']),np.concatenate(all_seqs[all_labels == '2']),np.concatenate(all_seqs[all_labels == '3']),np.concatenate(all_seqs[all_labels == '4'])])"
   ]
  },
  {
   "cell_type": "code",
   "execution_count": 270,
   "metadata": {},
   "outputs": [
    {
     "data": {
      "text/plain": [
       "array([['A', 'T', 'C', ..., 'C', 'T', 'T'],\n",
       "       ['A', 'T', 'A', ..., 'C', 'T', 'T'],\n",
       "       ['A', 'T', 'C', ..., 'C', 'A', 'G'],\n",
       "       ['A', 'C', 'C', ..., 'C', 'A', 'T']],\n",
       "      dtype='|S32')"
      ]
     },
     "execution_count": 270,
     "metadata": {},
     "output_type": "execute_result"
    }
   ],
   "source": [
    "seqs"
   ]
  },
  {
   "cell_type": "code",
   "execution_count": null,
   "metadata": {
    "collapsed": true
   },
   "outputs": [],
   "source": []
  }
 ],
 "metadata": {
  "kernelspec": {
   "display_name": "Python 2",
   "language": "python",
   "name": "python2"
  },
  "language_info": {
   "codemirror_mode": {
    "name": "ipython",
    "version": 2
   },
   "file_extension": ".py",
   "mimetype": "text/x-python",
   "name": "python",
   "nbconvert_exporter": "python",
   "pygments_lexer": "ipython2",
   "version": "2.7.13"
  }
 },
 "nbformat": 4,
 "nbformat_minor": 2
}
